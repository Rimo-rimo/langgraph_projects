{
 "cells": [
  {
   "cell_type": "code",
   "execution_count": 1,
   "metadata": {},
   "outputs": [],
   "source": [
    "from dotenv import load_dotenv\n",
    "import json\n",
    "from IPython.display import Image, display\n",
    "import os\n",
    "from pydantic import BaseModel\n",
    "from typing import Annotated, Literal\n",
    "from typing_extensions import TypedDict\n",
    "\n",
    "from langchain_community.tools.tavily_search import TavilySearchResults\n",
    "from langchain_openai import ChatOpenAI\n",
    "from langchain_core.messages import BaseMessage, ToolMessage, AIMessage\n",
    "from langchain_core.prompts import ChatPromptTemplate\n",
    "\n",
    "from langgraph.graph import StateGraph, START, END\n",
    "from langgraph.graph.message import add_messages\n",
    "from langgraph.prebuilt import ToolNode, tools_condition\n",
    "from langgraph.checkpoint.memory import MemorySaver"
   ]
  },
  {
   "cell_type": "code",
   "execution_count": 2,
   "metadata": {},
   "outputs": [],
   "source": [
    "load_dotenv()\n",
    "llm = ChatOpenAI(model=\"gpt-4o\")"
   ]
  },
  {
   "cell_type": "code",
   "execution_count": 3,
   "metadata": {},
   "outputs": [],
   "source": [
    "from schemas import DraftOutline\n",
    "from prompts import draft_refiner_prompt"
   ]
  },
  {
   "cell_type": "code",
   "execution_count": 4,
   "metadata": {},
   "outputs": [],
   "source": [
    "test_bot = draft_refiner_prompt | llm.with_structured_output(DraftOutline)"
   ]
  },
  {
   "cell_type": "code",
   "execution_count": 5,
   "metadata": {},
   "outputs": [],
   "source": [
    "text = \"\"\"\n",
    "모델이  학습되는  과정에서,  각  epoch 마다  정해진  metric 을  기록할  수  있도록 \n",
    "시스템을  구현  하였음.  웹  상에서  UI 로  쉽게  확인하기  위해, WandB 를 \n",
    "도입하였으며, DiceScore, DiceLoss 를  학습과  검증  과정에서  모두  기록해  보았음. \n",
    "CNN 계열의  Unet-3D 와  Vnet, Transformer 계열의  Unetr, Swin-Unetr  총  4 개의 \n",
    "모델을  학습시켜본  결과는  아래와  같음 \n",
    "Vnet 과  Swin-Unetr 의  모델이  Unet-3D 와  Unetr 에  비해  좋은  Dice Socre 를  가짐 \n",
    "Vnet   \n",
    "Dice Coefficient → 0.956 \n",
    "Swin-Unetr   \n",
    "Dice Coefficient → 0.956 \n",
    "Unet-3D   \n",
    "Dice Coefficient → 0.931 \n",
    "Unetr   \n",
    "Dice Coefficient → 0.891 \n",
    "수치적인  성능으로  만  봤을  때는  Swin-Unet 과  Vnet 이  가장  좋은  성능을 \n",
    "가졌지만,  이  두  모델에  대해서  시각화  하여  결과를  살펴  보았음. \n",
    "두  모델  모두  비슷하게  잘  예측하지만, Vent 은  가끔씩  예측영역이  잘게  쪼개지는 \n",
    "현상이  나타났음.  이에  반해, SwinUnetr 은  전체적으로  시각화  품질  상태가 \n",
    "양호해음.  때문에, SwinUnetr 을  다낭신  데이터에  한해  SOTA 모델이라  채택하여, \n",
    "해당  모델의  성능을  높여보는데  집중  하기로  함. \n",
    "\"\"\""
   ]
  },
  {
   "cell_type": "code",
   "execution_count": 6,
   "metadata": {},
   "outputs": [],
   "source": [
    "a = test_bot.invoke(text)"
   ]
  },
  {
   "cell_type": "code",
   "execution_count": 7,
   "metadata": {},
   "outputs": [
    {
     "data": {
      "text/plain": [
       "'모델 학습 및 성능 평가 연구'"
      ]
     },
     "execution_count": 7,
     "metadata": {},
     "output_type": "execute_result"
    }
   ],
   "source": [
    "a.title"
   ]
  },
  {
   "cell_type": "code",
   "execution_count": 8,
   "metadata": {},
   "outputs": [
    {
     "name": "stdout",
     "output_type": "stream",
     "text": [
      "section_title='연구 배경' contents='모델 학습 과정에서 각 epoch마다 정해진 metric을 기록할 수 있도록 시스템을 구현하였음. 이러한 기록을 웹 UI 상에서 쉽게 확인하기 위해 WandB를 도입함.'\n",
      "section_title='연구 방법' contents='DiceScore, DiceLoss를 학습과 검증 과정에서 모두 기록함. CNN 계열의 Unet-3D와 Vnet, Transformer 계열의 Unetr, Swin-Unetr 총 4개의 모델을 학습시킴.'\n",
      "section_title='연구 결과' contents='Vnet과 Swin-Unetr 모델이 Unet-3D와 Unetr에 비해 좋은 Dice Score를 가짐. \\n- Vnet Dice Coefficient → 0.956 \\n- Swin-Unetr Dice Coefficient → 0.956 \\n- Unet-3D Dice Coefficient → 0.931 \\n- Unetr Dice Coefficient → 0.891'\n",
      "section_title='결론 및 향후 연구' contents='수치적인 성능만 봤을 때는 Swin-Unetr과 Vnet이 가장 좋은 성능을 가졌음. 두 모델을 시각화하여 결과를 살펴보았는데, Vnet은 가끔 예측영역이 잘게 쪼개지는 현상이 나타났음. Swin-Unetr은 전체적으로 시각화 품질 상태가 양호하여, Swin-Unetr을 다낭신 데이터에 한해 SOTA 모델로 채택하고 해당 모델의 성능을 높이는 데 집중하기로 하였음.'\n"
     ]
    }
   ],
   "source": [
    "for i in a.sections:\n",
    "    print(i)"
   ]
  },
  {
   "cell_type": "code",
   "execution_count": null,
   "metadata": {},
   "outputs": [],
   "source": []
  }
 ],
 "metadata": {
  "kernelspec": {
   "display_name": "langgraph",
   "language": "python",
   "name": "python3"
  },
  "language_info": {
   "codemirror_mode": {
    "name": "ipython",
    "version": 3
   },
   "file_extension": ".py",
   "mimetype": "text/x-python",
   "name": "python",
   "nbconvert_exporter": "python",
   "pygments_lexer": "ipython3",
   "version": "3.11.7"
  }
 },
 "nbformat": 4,
 "nbformat_minor": 2
}
