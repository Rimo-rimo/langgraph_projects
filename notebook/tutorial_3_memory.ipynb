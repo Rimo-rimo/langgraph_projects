{
 "cells": [
  {
   "cell_type": "markdown",
   "metadata": {},
   "source": [
    "# Module"
   ]
  },
  {
   "cell_type": "code",
   "execution_count": 1,
   "metadata": {},
   "outputs": [
    {
     "data": {
      "text/plain": [
       "True"
      ]
     },
     "execution_count": 1,
     "metadata": {},
     "output_type": "execute_result"
    }
   ],
   "source": [
    "from dotenv import load_dotenv\n",
    "import os\n",
    "\n",
    "from typing import Annotated, Literal\n",
    "from typing_extensions import TypedDict\n",
    "\n",
    "from langchain_community.tools.tavily_search import TavilySearchResults\n",
    "from langchain_openai import ChatOpenAI\n",
    "from langchain_core.messages import BaseMessage\n",
    "from langgraph.prebuilt import ToolNode, tools_condition\n",
    "from langgraph.checkpoint.memory import MemorySaver\n",
    "\n",
    "from langgraph.graph import StateGraph, START, END\n",
    "from langgraph.graph.message import add_messages\n",
    "\n",
    "import json\n",
    "from IPython.display import Image, display\n",
    "\n",
    "from langchain_core.messages import ToolMessage\n",
    "\n",
    "# .env 파일 로드\n",
    "load_dotenv()"
   ]
  },
  {
   "cell_type": "markdown",
   "metadata": {},
   "source": [
    "### Memory checkpointer 생성"
   ]
  },
  {
   "cell_type": "code",
   "execution_count": 2,
   "metadata": {},
   "outputs": [],
   "source": [
    "memory = MemorySaver()"
   ]
  },
  {
   "cell_type": "markdown",
   "metadata": {},
   "source": [
    "### State 생성"
   ]
  },
  {
   "cell_type": "code",
   "execution_count": 3,
   "metadata": {},
   "outputs": [],
   "source": [
    "class State(TypedDict):\n",
    "    messages : Annotated[list, add_messages]"
   ]
  },
  {
   "cell_type": "markdown",
   "metadata": {},
   "source": [
    "### Graph 생성"
   ]
  },
  {
   "cell_type": "code",
   "execution_count": 4,
   "metadata": {},
   "outputs": [],
   "source": [
    "graph_builder = StateGraph(State)"
   ]
  },
  {
   "cell_type": "markdown",
   "metadata": {},
   "source": [
    "### Tool 및 LLM 생성"
   ]
  },
  {
   "cell_type": "code",
   "execution_count": 5,
   "metadata": {},
   "outputs": [],
   "source": [
    "tool = TavilySearchResults(max_results=2)\n",
    "tools = [tool]\n",
    "llm = ChatOpenAI(model=\"gpt-4o\")\n",
    "llm_with_tools = llm.bind_tools(tools)"
   ]
  },
  {
   "cell_type": "markdown",
   "metadata": {},
   "source": [
    "### Node 생성"
   ]
  },
  {
   "cell_type": "code",
   "execution_count": 6,
   "metadata": {},
   "outputs": [],
   "source": [
    "def chatbot(state: State):\n",
    "    return {\"messages\": [llm_with_tools.invoke(state[\"messages\"])]}\n",
    "\n",
    "tool_node = ToolNode(tools=tools)"
   ]
  },
  {
   "cell_type": "markdown",
   "metadata": {},
   "source": [
    "### Node 및 Edge 연결"
   ]
  },
  {
   "cell_type": "code",
   "execution_count": 7,
   "metadata": {},
   "outputs": [
    {
     "data": {
      "text/plain": [
       "<langgraph.graph.state.StateGraph at 0x70573b1b1810>"
      ]
     },
     "execution_count": 7,
     "metadata": {},
     "output_type": "execute_result"
    }
   ],
   "source": [
    "# Node 추가\n",
    "graph_builder.add_node(\"chatbot\", chatbot)\n",
    "graph_builder.add_node(\"tools\", tool_node)\n",
    "\n",
    "# Edge 추가\n",
    "graph_builder.add_edge(START, \"chatbot\")\n",
    "graph_builder.add_edge(\"tools\", \"chatbot\")\n",
    "\n",
    "# conditional Edge 추가\n",
    "graph_builder.add_conditional_edges(\"chatbot\", tools_condition)"
   ]
  },
  {
   "cell_type": "markdown",
   "metadata": {},
   "source": [
    "### 컴파일 - Checkpointer 활용"
   ]
  },
  {
   "cell_type": "code",
   "execution_count": 8,
   "metadata": {},
   "outputs": [],
   "source": [
    "graph = graph_builder.compile(checkpointer=memory)"
   ]
  },
  {
   "cell_type": "markdown",
   "metadata": {},
   "source": [
    "### 시각화"
   ]
  },
  {
   "cell_type": "code",
   "execution_count": 9,
   "metadata": {},
   "outputs": [
    {
     "data": {
      "image/jpeg": "[encoded data removed]",
      "text/plain": [
       "<IPython.core.display.Image object>"
      ]
     },
     "metadata": {},
     "output_type": "display_data"
    }
   ],
   "source": [
    "try:\n",
    "    display(\n",
    "        Image(\n",
    "            graph.get_graph().draw_mermaid_png(\n",
    "                output_file_path=\"./add_memory_to_chatbot.png\"\n",
    "            )\n",
    "        )\n",
    "    )\n",
    "except Exception:\n",
    "    pass"
   ]
  },
  {
   "cell_type": "markdown",
   "metadata": {},
   "source": [
    "### 대화를 위한 config 설정"
   ]
  },
  {
   "cell_type": "code",
   "execution_count": 10,
   "metadata": {},
   "outputs": [],
   "source": [
    "config = {\"configurable\": {\"thread_id\": \"1\"}}"
   ]
  },
  {
   "cell_type": "markdown",
   "metadata": {},
   "source": [
    "### Run"
   ]
  },
  {
   "cell_type": "code",
   "execution_count": null,
   "metadata": {},
   "outputs": [
    {
     "name": "stdout",
     "output_type": "stream",
     "text": [
      "================================\u001b[1m Human Message \u001b[0m=================================\n",
      "\n",
      "Hi there! My name is Rimo.\n",
      "==================================\u001b[1m Ai Message \u001b[0m==================================\n",
      "\n",
      "Hello Rimo! How can I assist you today?\n"
     ]
    }
   ],
   "source": [
    "user_input = \"Hi there! My name is Rimo.\"\n",
    "\n",
    "# The config is the **second positional argument** to stream() or invoke()!\n",
    "events = graph.stream(\n",
    "    {\"messages\": [(\"user\", user_input)]}, config, stream_mode=\"values\"\n",
    ")\n",
    "for event in events:\n",
    "    event[\"messages\"][-1].pretty_print()"
   ]
  },
  {
   "cell_type": "code",
   "execution_count": 12,
   "metadata": {},
   "outputs": [
    {
     "name": "stdout",
     "output_type": "stream",
     "text": [
      "================================\u001b[1m Human Message \u001b[0m=================================\n",
      "\n",
      "Remember my name?\n",
      "==================================\u001b[1m Ai Message \u001b[0m==================================\n",
      "\n",
      "Yes, your name is Rimo! How can I assist you further today?\n"
     ]
    }
   ],
   "source": [
    "user_input = \"Remember my name?\"\n",
    "\n",
    "# The config is the **second positional argument** to stream() or invoke()!\n",
    "events = graph.stream(\n",
    "    {\"messages\": [(\"user\", user_input)]}, config, stream_mode=\"values\"\n",
    ")\n",
    "for event in events:\n",
    "    event[\"messages\"][-1].pretty_print()"
   ]
  },
  {
   "cell_type": "markdown",
   "metadata": {},
   "source": [
    "### Config가 바뀐다면?"
   ]
  },
  {
   "cell_type": "code",
   "execution_count": null,
   "metadata": {},
   "outputs": [
    {
     "name": "stdout",
     "output_type": "stream",
     "text": [
      "[HumanMessage(content='Remember my name?', additional_kwargs={}, response_metadata={}, id='2dbb71bc-8ee5-4108-a158-54e50e6959e7')]\n",
      "[HumanMessage(content='Remember my name?', additional_kwargs={}, response_metadata={}, id='2dbb71bc-8ee5-4108-a158-54e50e6959e7'), AIMessage(content=\"I'm sorry, I don't have access to personal data about users unless it has been shared with me in the course of our conversation. I'm designed to respect user privacy and confidentiality.\", additional_kwargs={'refusal': None}, response_metadata={'token_usage': {'completion_tokens': 36, 'prompt_tokens': 83, 'total_tokens': 119, 'completion_tokens_details': {'audio_tokens': 0, 'reasoning_tokens': 0, 'accepted_prediction_tokens': 0, 'rejected_prediction_tokens': 0}, 'prompt_tokens_details': {'audio_tokens': 0, 'cached_tokens': 0}}, 'model_name': 'gpt-4o-2024-08-06', 'system_fingerprint': 'fp_12915b46c9', 'finish_reason': 'stop', 'logprobs': None}, id='run-d83a3f77-7c61-4f61-847e-beac8c19ebb5-0', usage_metadata={'input_tokens': 83, 'output_tokens': 36, 'total_tokens': 119, 'input_token_details': {'audio': 0, 'cache_read': 0}, 'output_token_details': {'audio': 0, 'reasoning': 0}})]\n"
     ]
    }
   ],
   "source": [
    "user_input = \"Remember my name?\"\n",
    "\n",
    "# The config is the **second positional argument** to stream() or invoke()!\n",
    "events = graph.stream(\n",
    "    {\"messages\": [(\"user\", user_input)]}, {\"configurable\":{\"thread_id\":\"hi\"}}, stream_mode=\"values\"\n",
    ")\n",
    "for event in events:\n",
    "    print(event[\"messages\"])#[)-1].pretty_print()"
   ]
  },
  {
   "cell_type": "markdown",
   "metadata": {},
   "source": [
    "### 특정 config의 State 상태를 보려면?"
   ]
  },
  {
   "cell_type": "code",
   "execution_count": 14,
   "metadata": {},
   "outputs": [],
   "source": [
    "snapshot = graph.get_state(config)"
   ]
  },
  {
   "cell_type": "code",
   "execution_count": 15,
   "metadata": {},
   "outputs": [],
   "source": [
    "snapshot_value = snapshot.values"
   ]
  },
  {
   "cell_type": "code",
   "execution_count": 16,
   "metadata": {},
   "outputs": [
    {
     "data": {
      "text/plain": [
       "2"
      ]
     },
     "execution_count": 16,
     "metadata": {},
     "output_type": "execute_result"
    }
   ],
   "source": [
    "len(snapshot_value)"
   ]
  },
  {
   "cell_type": "code",
   "execution_count": 18,
   "metadata": {},
   "outputs": [
    {
     "data": {
      "text/plain": [
       "[HumanMessage(content='Hi there! My name is Rimo.', additional_kwargs={}, response_metadata={}, id='46468d8c-b5b1-4cfe-8511-0c76cd33789d'),\n",
       " AIMessage(content='Hello Rimo! How can I assist you today?', additional_kwargs={'refusal': None}, response_metadata={'token_usage': {'completion_tokens': 12, 'prompt_tokens': 88, 'total_tokens': 100, 'completion_tokens_details': {'audio_tokens': 0, 'reasoning_tokens': 0, 'accepted_prediction_tokens': 0, 'rejected_prediction_tokens': 0}, 'prompt_tokens_details': {'audio_tokens': 0, 'cached_tokens': 0}}, 'model_name': 'gpt-4o-2024-08-06', 'system_fingerprint': 'fp_159d8341cc', 'finish_reason': 'stop', 'logprobs': None}, id='run-064efdcc-5fc6-4478-8075-e2169770f365-0', usage_metadata={'input_tokens': 88, 'output_tokens': 12, 'total_tokens': 100, 'input_token_details': {'audio': 0, 'cache_read': 0}, 'output_token_details': {'audio': 0, 'reasoning': 0}}),\n",
       " HumanMessage(content='Remember my name?', additional_kwargs={}, response_metadata={}, id='3bf901e4-f886-417e-986d-d853dd030490'),\n",
       " AIMessage(content='Yes, your name is Rimo! How can I assist you further today?', additional_kwargs={'refusal': None}, response_metadata={'token_usage': {'completion_tokens': 17, 'prompt_tokens': 111, 'total_tokens': 128, 'completion_tokens_details': {'audio_tokens': 0, 'reasoning_tokens': 0, 'accepted_prediction_tokens': 0, 'rejected_prediction_tokens': 0}, 'prompt_tokens_details': {'audio_tokens': 0, 'cached_tokens': 0}}, 'model_name': 'gpt-4o-2024-08-06', 'system_fingerprint': 'fp_45cf54deae', 'finish_reason': 'stop', 'logprobs': None}, id='run-0b4117e4-9c8c-4170-8c8d-047920c9c4bf-0', usage_metadata={'input_tokens': 111, 'output_tokens': 17, 'total_tokens': 128, 'input_token_details': {'audio': 0, 'cache_read': 0}, 'output_token_details': {'audio': 0, 'reasoning': 0}})]"
      ]
     },
     "execution_count": 18,
     "metadata": {},
     "output_type": "execute_result"
    }
   ],
   "source": [
    "snapshot_value[\"messages\"]"
   ]
  },
  {
   "cell_type": "markdown",
   "metadata": {},
   "source": [
    "### Test"
   ]
  },
  {
   "cell_type": "code",
   "execution_count": 10,
   "metadata": {},
   "outputs": [],
   "source": [
    "config = {\"configurable\": {\"thread_id\": \"test\"}}"
   ]
  },
  {
   "cell_type": "code",
   "execution_count": 17,
   "metadata": {},
   "outputs": [],
   "source": [
    "user_input = \"please search for me\"\n",
    "\n",
    "# The config is the **second positional argument** to stream() or invoke()!\n",
    "events = graph.stream(\n",
    "    {\"messages\": [(\"user\", user_input)]}, config, stream_mode=\"values\"\n",
    ")"
   ]
  },
  {
   "cell_type": "code",
   "execution_count": 18,
   "metadata": {},
   "outputs": [
    {
     "name": "stdout",
     "output_type": "stream",
     "text": [
      "[HumanMessage(content='what is 3d segmentations?', additional_kwargs={}, response_metadata={}, id='248127d3-ed50-43cb-b80a-f3b7c58f0945'), AIMessage(content='3D segmentation refers to the process of partitioning a three-dimensional digital image or a 3D model into multiple segments, often to simplify the representation of the image or to make it more meaningful and easier to analyze. This technique is widely used in various fields, such as medical imaging, computer vision, and robotics. \\n\\nThe main goal of 3D segmentation is to identify and delineate structures within the 3D data. Here are a few details about its application:\\n\\n1. **Medical Imaging**: In medical imaging, 3D segmentation is crucial for identifying anatomical structures, such as organs, tissues, or tumors, within MRI or CT scans. This helps in diagnosis, treatment planning, and image-guided surgery.\\n\\n2. **Computer Vision**: In computer vision, 3D segmentation can be used to recognize and classify objects within a scene, aiding in everything from autonomous vehicle navigation to augmented reality applications.\\n\\n3. **Robotics**: In robotics, 3D segmentation helps robots to understand their environment by identifying and classifying different objects or regions, which is essential for tasks like object manipulation or navigation.\\n\\nTechniques for 3D segmentation can vary widely, including manual delineation by experts, semi-automatic approaches using machine learning, and fully automatic methods leveraging deep learning models.', additional_kwargs={'refusal': None}, response_metadata={'token_usage': {'completion_tokens': 263, 'prompt_tokens': 87, 'total_tokens': 350, 'completion_tokens_details': {'audio_tokens': 0, 'reasoning_tokens': 0, 'accepted_prediction_tokens': 0, 'rejected_prediction_tokens': 0}, 'prompt_tokens_details': {'audio_tokens': 0, 'cached_tokens': 0}}, 'model_name': 'gpt-4o-2024-08-06', 'system_fingerprint': 'fp_72bbfa6014', 'finish_reason': 'stop', 'logprobs': None}, id='run-e8d870a8-ab6e-449f-ac65-afd827d43013-0', usage_metadata={'input_tokens': 87, 'output_tokens': 263, 'total_tokens': 350, 'input_token_details': {'audio': 0, 'cache_read': 0}, 'output_token_details': {'audio': 0, 'reasoning': 0}}), HumanMessage(content='please search for me', additional_kwargs={}, response_metadata={}, id='fb0adf0f-e51e-4584-9899-4b38af58015a')]\n",
      "[HumanMessage(content='what is 3d segmentations?', additional_kwargs={}, response_metadata={}, id='248127d3-ed50-43cb-b80a-f3b7c58f0945'), AIMessage(content='3D segmentation refers to the process of partitioning a three-dimensional digital image or a 3D model into multiple segments, often to simplify the representation of the image or to make it more meaningful and easier to analyze. This technique is widely used in various fields, such as medical imaging, computer vision, and robotics. \\n\\nThe main goal of 3D segmentation is to identify and delineate structures within the 3D data. Here are a few details about its application:\\n\\n1. **Medical Imaging**: In medical imaging, 3D segmentation is crucial for identifying anatomical structures, such as organs, tissues, or tumors, within MRI or CT scans. This helps in diagnosis, treatment planning, and image-guided surgery.\\n\\n2. **Computer Vision**: In computer vision, 3D segmentation can be used to recognize and classify objects within a scene, aiding in everything from autonomous vehicle navigation to augmented reality applications.\\n\\n3. **Robotics**: In robotics, 3D segmentation helps robots to understand their environment by identifying and classifying different objects or regions, which is essential for tasks like object manipulation or navigation.\\n\\nTechniques for 3D segmentation can vary widely, including manual delineation by experts, semi-automatic approaches using machine learning, and fully automatic methods leveraging deep learning models.', additional_kwargs={'refusal': None}, response_metadata={'token_usage': {'completion_tokens': 263, 'prompt_tokens': 87, 'total_tokens': 350, 'completion_tokens_details': {'audio_tokens': 0, 'reasoning_tokens': 0, 'accepted_prediction_tokens': 0, 'rejected_prediction_tokens': 0}, 'prompt_tokens_details': {'audio_tokens': 0, 'cached_tokens': 0}}, 'model_name': 'gpt-4o-2024-08-06', 'system_fingerprint': 'fp_72bbfa6014', 'finish_reason': 'stop', 'logprobs': None}, id='run-e8d870a8-ab6e-449f-ac65-afd827d43013-0', usage_metadata={'input_tokens': 87, 'output_tokens': 263, 'total_tokens': 350, 'input_token_details': {'audio': 0, 'cache_read': 0}, 'output_token_details': {'audio': 0, 'reasoning': 0}}), HumanMessage(content='please search for me', additional_kwargs={}, response_metadata={}, id='fb0adf0f-e51e-4584-9899-4b38af58015a'), AIMessage(content='', additional_kwargs={'tool_calls': [{'id': 'call_GBcO1xCqUV14lHIz1ZBib6lE', 'function': {'arguments': '{\"query\":\"3D segmentation\"}', 'name': 'tavily_search_results_json'}, 'type': 'function'}], 'refusal': None}, response_metadata={'token_usage': {'completion_tokens': 20, 'prompt_tokens': 361, 'total_tokens': 381, 'completion_tokens_details': {'audio_tokens': 0, 'reasoning_tokens': 0, 'accepted_prediction_tokens': 0, 'rejected_prediction_tokens': 0}, 'prompt_tokens_details': {'audio_tokens': 0, 'cached_tokens': 0}}, 'model_name': 'gpt-4o-2024-08-06', 'system_fingerprint': 'fp_159d8341cc', 'finish_reason': 'tool_calls', 'logprobs': None}, id='run-12a026b6-f2d1-40dd-ae6a-431f61eba1be-0', tool_calls=[{'name': 'tavily_search_results_json', 'args': {'query': '3D segmentation'}, 'id': 'call_GBcO1xCqUV14lHIz1ZBib6lE', 'type': 'tool_call'}], usage_metadata={'input_tokens': 361, 'output_tokens': 20, 'total_tokens': 381, 'input_token_details': {'audio': 0, 'cache_read': 0}, 'output_token_details': {'audio': 0, 'reasoning': 0}})]\n",
      "[HumanMessage(content='what is 3d segmentations?', additional_kwargs={}, response_metadata={}, id='248127d3-ed50-43cb-b80a-f3b7c58f0945'), AIMessage(content='3D segmentation refers to the process of partitioning a three-dimensional digital image or a 3D model into multiple segments, often to simplify the representation of the image or to make it more meaningful and easier to analyze. This technique is widely used in various fields, such as medical imaging, computer vision, and robotics. \\n\\nThe main goal of 3D segmentation is to identify and delineate structures within the 3D data. Here are a few details about its application:\\n\\n1. **Medical Imaging**: In medical imaging, 3D segmentation is crucial for identifying anatomical structures, such as organs, tissues, or tumors, within MRI or CT scans. This helps in diagnosis, treatment planning, and image-guided surgery.\\n\\n2. **Computer Vision**: In computer vision, 3D segmentation can be used to recognize and classify objects within a scene, aiding in everything from autonomous vehicle navigation to augmented reality applications.\\n\\n3. **Robotics**: In robotics, 3D segmentation helps robots to understand their environment by identifying and classifying different objects or regions, which is essential for tasks like object manipulation or navigation.\\n\\nTechniques for 3D segmentation can vary widely, including manual delineation by experts, semi-automatic approaches using machine learning, and fully automatic methods leveraging deep learning models.', additional_kwargs={'refusal': None}, response_metadata={'token_usage': {'completion_tokens': 263, 'prompt_tokens': 87, 'total_tokens': 350, 'completion_tokens_details': {'audio_tokens': 0, 'reasoning_tokens': 0, 'accepted_prediction_tokens': 0, 'rejected_prediction_tokens': 0}, 'prompt_tokens_details': {'audio_tokens': 0, 'cached_tokens': 0}}, 'model_name': 'gpt-4o-2024-08-06', 'system_fingerprint': 'fp_72bbfa6014', 'finish_reason': 'stop', 'logprobs': None}, id='run-e8d870a8-ab6e-449f-ac65-afd827d43013-0', usage_metadata={'input_tokens': 87, 'output_tokens': 263, 'total_tokens': 350, 'input_token_details': {'audio': 0, 'cache_read': 0}, 'output_token_details': {'audio': 0, 'reasoning': 0}}), HumanMessage(content='please search for me', additional_kwargs={}, response_metadata={}, id='fb0adf0f-e51e-4584-9899-4b38af58015a'), AIMessage(content='', additional_kwargs={'tool_calls': [{'id': 'call_GBcO1xCqUV14lHIz1ZBib6lE', 'function': {'arguments': '{\"query\":\"3D segmentation\"}', 'name': 'tavily_search_results_json'}, 'type': 'function'}], 'refusal': None}, response_metadata={'token_usage': {'completion_tokens': 20, 'prompt_tokens': 361, 'total_tokens': 381, 'completion_tokens_details': {'audio_tokens': 0, 'reasoning_tokens': 0, 'accepted_prediction_tokens': 0, 'rejected_prediction_tokens': 0}, 'prompt_tokens_details': {'audio_tokens': 0, 'cached_tokens': 0}}, 'model_name': 'gpt-4o-2024-08-06', 'system_fingerprint': 'fp_159d8341cc', 'finish_reason': 'tool_calls', 'logprobs': None}, id='run-12a026b6-f2d1-40dd-ae6a-431f61eba1be-0', tool_calls=[{'name': 'tavily_search_results_json', 'args': {'query': '3D segmentation'}, 'id': 'call_GBcO1xCqUV14lHIz1ZBib6lE', 'type': 'tool_call'}], usage_metadata={'input_tokens': 361, 'output_tokens': 20, 'total_tokens': 381, 'input_token_details': {'audio': 0, 'cache_read': 0}, 'output_token_details': {'audio': 0, 'reasoning': 0}}), ToolMessage(content='[{\"url\": \"https://paperswithcode.com/task/3d-semantic-segmentation\", \"content\": \"Find the latest research and implementations of 3D semantic segmentation, a computer vision task that divides 3D point clouds or meshes into regions. Explore papers, benchmarks, datasets, libraries, subtasks, and most implemented papers on this topic.\"}, {\"url\": \"https://arxiv.org/html/2103.05423v4\", \"content\": \"This paper reviews the recent progress in deep learning methods for 3D segmentation tasks, such as semantic, instance and part segmentation. It covers over 220 works from the last six years, analyzes their strengths and limitations, and discusses their competitive results on benchmark datasets.\"}]', name='tavily_search_results_json', id='200304c0-41a2-4f06-b353-897cecdbd6e3', tool_call_id='call_GBcO1xCqUV14lHIz1ZBib6lE', artifact={'query': '3D segmentation', 'follow_up_questions': None, 'answer': None, 'images': [], 'results': [{'title': '3D Semantic Segmentation - Papers With Code', 'url': 'https://paperswithcode.com/task/3d-semantic-segmentation', 'content': 'Find the latest research and implementations of 3D semantic segmentation, a computer vision task that divides 3D point clouds or meshes into regions. Explore papers, benchmarks, datasets, libraries, subtasks, and most implemented papers on this topic.', 'score': 0.9978173, 'raw_content': None}, {'title': 'Deep Learning Based 3D Segmentation: A Survey - arXiv.org', 'url': 'https://arxiv.org/html/2103.05423v4', 'content': 'This paper reviews the recent progress in deep learning methods for 3D segmentation tasks, such as semantic, instance and part segmentation. It covers over 220 works from the last six years, analyzes their strengths and limitations, and discusses their competitive results on benchmark datasets.', 'score': 0.996852, 'raw_content': None}], 'response_time': 2.56})]\n",
      "[HumanMessage(content='what is 3d segmentations?', additional_kwargs={}, response_metadata={}, id='248127d3-ed50-43cb-b80a-f3b7c58f0945'), AIMessage(content='3D segmentation refers to the process of partitioning a three-dimensional digital image or a 3D model into multiple segments, often to simplify the representation of the image or to make it more meaningful and easier to analyze. This technique is widely used in various fields, such as medical imaging, computer vision, and robotics. \\n\\nThe main goal of 3D segmentation is to identify and delineate structures within the 3D data. Here are a few details about its application:\\n\\n1. **Medical Imaging**: In medical imaging, 3D segmentation is crucial for identifying anatomical structures, such as organs, tissues, or tumors, within MRI or CT scans. This helps in diagnosis, treatment planning, and image-guided surgery.\\n\\n2. **Computer Vision**: In computer vision, 3D segmentation can be used to recognize and classify objects within a scene, aiding in everything from autonomous vehicle navigation to augmented reality applications.\\n\\n3. **Robotics**: In robotics, 3D segmentation helps robots to understand their environment by identifying and classifying different objects or regions, which is essential for tasks like object manipulation or navigation.\\n\\nTechniques for 3D segmentation can vary widely, including manual delineation by experts, semi-automatic approaches using machine learning, and fully automatic methods leveraging deep learning models.', additional_kwargs={'refusal': None}, response_metadata={'token_usage': {'completion_tokens': 263, 'prompt_tokens': 87, 'total_tokens': 350, 'completion_tokens_details': {'audio_tokens': 0, 'reasoning_tokens': 0, 'accepted_prediction_tokens': 0, 'rejected_prediction_tokens': 0}, 'prompt_tokens_details': {'audio_tokens': 0, 'cached_tokens': 0}}, 'model_name': 'gpt-4o-2024-08-06', 'system_fingerprint': 'fp_72bbfa6014', 'finish_reason': 'stop', 'logprobs': None}, id='run-e8d870a8-ab6e-449f-ac65-afd827d43013-0', usage_metadata={'input_tokens': 87, 'output_tokens': 263, 'total_tokens': 350, 'input_token_details': {'audio': 0, 'cache_read': 0}, 'output_token_details': {'audio': 0, 'reasoning': 0}}), HumanMessage(content='please search for me', additional_kwargs={}, response_metadata={}, id='fb0adf0f-e51e-4584-9899-4b38af58015a'), AIMessage(content='', additional_kwargs={'tool_calls': [{'id': 'call_GBcO1xCqUV14lHIz1ZBib6lE', 'function': {'arguments': '{\"query\":\"3D segmentation\"}', 'name': 'tavily_search_results_json'}, 'type': 'function'}], 'refusal': None}, response_metadata={'token_usage': {'completion_tokens': 20, 'prompt_tokens': 361, 'total_tokens': 381, 'completion_tokens_details': {'audio_tokens': 0, 'reasoning_tokens': 0, 'accepted_prediction_tokens': 0, 'rejected_prediction_tokens': 0}, 'prompt_tokens_details': {'audio_tokens': 0, 'cached_tokens': 0}}, 'model_name': 'gpt-4o-2024-08-06', 'system_fingerprint': 'fp_159d8341cc', 'finish_reason': 'tool_calls', 'logprobs': None}, id='run-12a026b6-f2d1-40dd-ae6a-431f61eba1be-0', tool_calls=[{'name': 'tavily_search_results_json', 'args': {'query': '3D segmentation'}, 'id': 'call_GBcO1xCqUV14lHIz1ZBib6lE', 'type': 'tool_call'}], usage_metadata={'input_tokens': 361, 'output_tokens': 20, 'total_tokens': 381, 'input_token_details': {'audio': 0, 'cache_read': 0}, 'output_token_details': {'audio': 0, 'reasoning': 0}}), ToolMessage(content='[{\"url\": \"https://paperswithcode.com/task/3d-semantic-segmentation\", \"content\": \"Find the latest research and implementations of 3D semantic segmentation, a computer vision task that divides 3D point clouds or meshes into regions. Explore papers, benchmarks, datasets, libraries, subtasks, and most implemented papers on this topic.\"}, {\"url\": \"https://arxiv.org/html/2103.05423v4\", \"content\": \"This paper reviews the recent progress in deep learning methods for 3D segmentation tasks, such as semantic, instance and part segmentation. It covers over 220 works from the last six years, analyzes their strengths and limitations, and discusses their competitive results on benchmark datasets.\"}]', name='tavily_search_results_json', id='200304c0-41a2-4f06-b353-897cecdbd6e3', tool_call_id='call_GBcO1xCqUV14lHIz1ZBib6lE', artifact={'query': '3D segmentation', 'follow_up_questions': None, 'answer': None, 'images': [], 'results': [{'title': '3D Semantic Segmentation - Papers With Code', 'url': 'https://paperswithcode.com/task/3d-semantic-segmentation', 'content': 'Find the latest research and implementations of 3D semantic segmentation, a computer vision task that divides 3D point clouds or meshes into regions. Explore papers, benchmarks, datasets, libraries, subtasks, and most implemented papers on this topic.', 'score': 0.9978173, 'raw_content': None}, {'title': 'Deep Learning Based 3D Segmentation: A Survey - arXiv.org', 'url': 'https://arxiv.org/html/2103.05423v4', 'content': 'This paper reviews the recent progress in deep learning methods for 3D segmentation tasks, such as semantic, instance and part segmentation. It covers over 220 works from the last six years, analyzes their strengths and limitations, and discusses their competitive results on benchmark datasets.', 'score': 0.996852, 'raw_content': None}], 'response_time': 2.56}), AIMessage(content='Here are some resources on 3D segmentation:\\n\\n1. **Papers with Code on 3D Semantic Segmentation**: This resource provides the latest research and implementations of 3D semantic segmentation, which involves dividing 3D point clouds or meshes into regions. You can explore papers, benchmarks, datasets, libraries, and the most implemented papers on this topic. [Learn more here](https://paperswithcode.com/task/3d-semantic-segmentation).\\n\\n2. **Review Paper on Deep Learning Methods for 3D Segmentation**: This paper reviews recent progress in deep learning methods for 3D segmentation tasks, such as semantic, instance, and part segmentation. It covers over 220 works from the past six years, analyzing their strengths and limitations, and discussing their competitive results on benchmark datasets. [Read the paper here](https://arxiv.org/html/2103.05423v4).', additional_kwargs={'refusal': None}, response_metadata={'token_usage': {'completion_tokens': 187, 'prompt_tokens': 545, 'total_tokens': 732, 'completion_tokens_details': {'audio_tokens': 0, 'reasoning_tokens': 0, 'accepted_prediction_tokens': 0, 'rejected_prediction_tokens': 0}, 'prompt_tokens_details': {'audio_tokens': 0, 'cached_tokens': 0}}, 'model_name': 'gpt-4o-2024-08-06', 'system_fingerprint': 'fp_159d8341cc', 'finish_reason': 'stop', 'logprobs': None}, id='run-6402c6ac-6a94-4be0-bd76-f834b6c8c054-0', usage_metadata={'input_tokens': 545, 'output_tokens': 187, 'total_tokens': 732, 'input_token_details': {'audio': 0, 'cache_read': 0}, 'output_token_details': {'audio': 0, 'reasoning': 0}})]\n"
     ]
    }
   ],
   "source": [
    "for event in events:\n",
    "    print(event[\"messages\"])#[)-1].pretty_print()"
   ]
  },
  {
   "cell_type": "code",
   "execution_count": 19,
   "metadata": {},
   "outputs": [],
   "source": [
    "snapshot = graph.get_state(config)"
   ]
  },
  {
   "cell_type": "code",
   "execution_count": 20,
   "metadata": {},
   "outputs": [],
   "source": [
    "snapshot_values = snapshot.values"
   ]
  },
  {
   "cell_type": "code",
   "execution_count": 21,
   "metadata": {},
   "outputs": [
    {
     "data": {
      "text/plain": [
       "[HumanMessage(content='what is 3d segmentations?', additional_kwargs={}, response_metadata={}, id='248127d3-ed50-43cb-b80a-f3b7c58f0945'),\n",
       " AIMessage(content='3D segmentation refers to the process of partitioning a three-dimensional digital image or a 3D model into multiple segments, often to simplify the representation of the image or to make it more meaningful and easier to analyze. This technique is widely used in various fields, such as medical imaging, computer vision, and robotics. \\n\\nThe main goal of 3D segmentation is to identify and delineate structures within the 3D data. Here are a few details about its application:\\n\\n1. **Medical Imaging**: In medical imaging, 3D segmentation is crucial for identifying anatomical structures, such as organs, tissues, or tumors, within MRI or CT scans. This helps in diagnosis, treatment planning, and image-guided surgery.\\n\\n2. **Computer Vision**: In computer vision, 3D segmentation can be used to recognize and classify objects within a scene, aiding in everything from autonomous vehicle navigation to augmented reality applications.\\n\\n3. **Robotics**: In robotics, 3D segmentation helps robots to understand their environment by identifying and classifying different objects or regions, which is essential for tasks like object manipulation or navigation.\\n\\nTechniques for 3D segmentation can vary widely, including manual delineation by experts, semi-automatic approaches using machine learning, and fully automatic methods leveraging deep learning models.', additional_kwargs={'refusal': None}, response_metadata={'token_usage': {'completion_tokens': 263, 'prompt_tokens': 87, 'total_tokens': 350, 'completion_tokens_details': {'audio_tokens': 0, 'reasoning_tokens': 0, 'accepted_prediction_tokens': 0, 'rejected_prediction_tokens': 0}, 'prompt_tokens_details': {'audio_tokens': 0, 'cached_tokens': 0}}, 'model_name': 'gpt-4o-2024-08-06', 'system_fingerprint': 'fp_72bbfa6014', 'finish_reason': 'stop', 'logprobs': None}, id='run-e8d870a8-ab6e-449f-ac65-afd827d43013-0', usage_metadata={'input_tokens': 87, 'output_tokens': 263, 'total_tokens': 350, 'input_token_details': {'audio': 0, 'cache_read': 0}, 'output_token_details': {'audio': 0, 'reasoning': 0}}),\n",
       " HumanMessage(content='please search for me', additional_kwargs={}, response_metadata={}, id='fb0adf0f-e51e-4584-9899-4b38af58015a'),\n",
       " AIMessage(content='', additional_kwargs={'tool_calls': [{'id': 'call_GBcO1xCqUV14lHIz1ZBib6lE', 'function': {'arguments': '{\"query\":\"3D segmentation\"}', 'name': 'tavily_search_results_json'}, 'type': 'function'}], 'refusal': None}, response_metadata={'token_usage': {'completion_tokens': 20, 'prompt_tokens': 361, 'total_tokens': 381, 'completion_tokens_details': {'audio_tokens': 0, 'reasoning_tokens': 0, 'accepted_prediction_tokens': 0, 'rejected_prediction_tokens': 0}, 'prompt_tokens_details': {'audio_tokens': 0, 'cached_tokens': 0}}, 'model_name': 'gpt-4o-2024-08-06', 'system_fingerprint': 'fp_159d8341cc', 'finish_reason': 'tool_calls', 'logprobs': None}, id='run-12a026b6-f2d1-40dd-ae6a-431f61eba1be-0', tool_calls=[{'name': 'tavily_search_results_json', 'args': {'query': '3D segmentation'}, 'id': 'call_GBcO1xCqUV14lHIz1ZBib6lE', 'type': 'tool_call'}], usage_metadata={'input_tokens': 361, 'output_tokens': 20, 'total_tokens': 381, 'input_token_details': {'audio': 0, 'cache_read': 0}, 'output_token_details': {'audio': 0, 'reasoning': 0}}),\n",
       " ToolMessage(content='[{\"url\": \"https://paperswithcode.com/task/3d-semantic-segmentation\", \"content\": \"Find the latest research and implementations of 3D semantic segmentation, a computer vision task that divides 3D point clouds or meshes into regions. Explore papers, benchmarks, datasets, libraries, subtasks, and most implemented papers on this topic.\"}, {\"url\": \"https://arxiv.org/html/2103.05423v4\", \"content\": \"This paper reviews the recent progress in deep learning methods for 3D segmentation tasks, such as semantic, instance and part segmentation. It covers over 220 works from the last six years, analyzes their strengths and limitations, and discusses their competitive results on benchmark datasets.\"}]', name='tavily_search_results_json', id='200304c0-41a2-4f06-b353-897cecdbd6e3', tool_call_id='call_GBcO1xCqUV14lHIz1ZBib6lE', artifact={'query': '3D segmentation', 'follow_up_questions': None, 'answer': None, 'images': [], 'results': [{'title': '3D Semantic Segmentation - Papers With Code', 'url': 'https://paperswithcode.com/task/3d-semantic-segmentation', 'content': 'Find the latest research and implementations of 3D semantic segmentation, a computer vision task that divides 3D point clouds or meshes into regions. Explore papers, benchmarks, datasets, libraries, subtasks, and most implemented papers on this topic.', 'score': 0.9978173, 'raw_content': None}, {'title': 'Deep Learning Based 3D Segmentation: A Survey - arXiv.org', 'url': 'https://arxiv.org/html/2103.05423v4', 'content': 'This paper reviews the recent progress in deep learning methods for 3D segmentation tasks, such as semantic, instance and part segmentation. It covers over 220 works from the last six years, analyzes their strengths and limitations, and discusses their competitive results on benchmark datasets.', 'score': 0.996852, 'raw_content': None}], 'response_time': 2.56}),\n",
       " AIMessage(content='Here are some resources on 3D segmentation:\\n\\n1. **Papers with Code on 3D Semantic Segmentation**: This resource provides the latest research and implementations of 3D semantic segmentation, which involves dividing 3D point clouds or meshes into regions. You can explore papers, benchmarks, datasets, libraries, and the most implemented papers on this topic. [Learn more here](https://paperswithcode.com/task/3d-semantic-segmentation).\\n\\n2. **Review Paper on Deep Learning Methods for 3D Segmentation**: This paper reviews recent progress in deep learning methods for 3D segmentation tasks, such as semantic, instance, and part segmentation. It covers over 220 works from the past six years, analyzing their strengths and limitations, and discussing their competitive results on benchmark datasets. [Read the paper here](https://arxiv.org/html/2103.05423v4).', additional_kwargs={'refusal': None}, response_metadata={'token_usage': {'completion_tokens': 187, 'prompt_tokens': 545, 'total_tokens': 732, 'completion_tokens_details': {'audio_tokens': 0, 'reasoning_tokens': 0, 'accepted_prediction_tokens': 0, 'rejected_prediction_tokens': 0}, 'prompt_tokens_details': {'audio_tokens': 0, 'cached_tokens': 0}}, 'model_name': 'gpt-4o-2024-08-06', 'system_fingerprint': 'fp_159d8341cc', 'finish_reason': 'stop', 'logprobs': None}, id='run-6402c6ac-6a94-4be0-bd76-f834b6c8c054-0', usage_metadata={'input_tokens': 545, 'output_tokens': 187, 'total_tokens': 732, 'input_token_details': {'audio': 0, 'cache_read': 0}, 'output_token_details': {'audio': 0, 'reasoning': 0}})]"
      ]
     },
     "execution_count": 21,
     "metadata": {},
     "output_type": "execute_result"
    }
   ],
   "source": [
    "snapshot_values[\"messages\"]"
   ]
  },
  {
   "cell_type": "code",
   "execution_count": null,
   "metadata": {},
   "outputs": [],
   "source": []
  }
 ],
 "metadata": {
  "kernelspec": {
   "display_name": "langgraph",
   "language": "python",
   "name": "python3"
  },
  "language_info": {
   "codemirror_mode": {
    "name": "ipython",
    "version": 3
   },
   "file_extension": ".py",
   "mimetype": "text/x-python",
   "name": "python",
   "nbconvert_exporter": "python",
   "pygments_lexer": "ipython3",
   "version": "3.11.7"
  }
 },
 "nbformat": 4,
 "nbformat_minor": 2
}
