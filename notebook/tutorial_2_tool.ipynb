{
 "cells": [
  {
   "cell_type": "markdown",
   "metadata": {},
   "source": [
    "# Module"
   ]
  },
  {
   "cell_type": "code",
   "execution_count": 2,
   "metadata": {},
   "outputs": [
    {
     "data": {
      "text/plain": [
       "True"
      ]
     },
     "execution_count": 2,
     "metadata": {},
     "output_type": "execute_result"
    }
   ],
   "source": [
    "from dotenv import load_dotenv\n",
    "import os\n",
    "\n",
    "from typing import Annotated, Literal\n",
    "from typing_extensions import TypedDict\n",
    "\n",
    "from langchain_community.tools.tavily_search import TavilySearchResults\n",
    "from langchain_openai import ChatOpenAI\n",
    "\n",
    "from langgraph.graph import StateGraph, START, END\n",
    "from langgraph.graph.message import add_messages\n",
    "\n",
    "import json\n",
    "\n",
    "from langchain_core.messages import ToolMessage\n",
    "\n",
    "# .env 파일 로드\n",
    "load_dotenv()"
   ]
  },
  {
   "cell_type": "markdown",
   "metadata": {},
   "source": [
    "### Tavily 정의"
   ]
  },
  {
   "cell_type": "code",
   "execution_count": 3,
   "metadata": {},
   "outputs": [],
   "source": [
    "tool = TavilySearchResults(max_results=2)\n",
    "tools = [tool]"
   ]
  },
  {
   "cell_type": "markdown",
   "metadata": {},
   "source": [
    "### State 정의"
   ]
  },
  {
   "cell_type": "code",
   "execution_count": 4,
   "metadata": {},
   "outputs": [],
   "source": [
    "class State(TypedDict):\n",
    "    messages: Annotated[list, add_messages]"
   ]
  },
  {
   "cell_type": "markdown",
   "metadata": {},
   "source": [
    "### Graph 정의"
   ]
  },
  {
   "cell_type": "code",
   "execution_count": 5,
   "metadata": {},
   "outputs": [],
   "source": [
    "graph_builder = StateGraph(State)"
   ]
  },
  {
   "cell_type": "markdown",
   "metadata": {},
   "source": [
    "### LLM 정의\n",
    "* tavily 툴 바인딩"
   ]
  },
  {
   "cell_type": "code",
   "execution_count": 6,
   "metadata": {},
   "outputs": [],
   "source": [
    "llm = ChatOpenAI(model=\"gpt-4o\")\n",
    "llm_with_tools = llm.bind_tools(tools) # tools를 LLM에 바인딩 -> LLM이 자신이 가진 tools를 인식하고 사용할 수 있음\n",
    "\n",
    "def chatbot(state: State):\n",
    "    return {\"messages\": [llm_with_tools.invoke(state[\"messages\"])]}"
   ]
  },
  {
   "cell_type": "markdown",
   "metadata": {},
   "source": [
    "### Graph에 노드 및 엣지 추가"
   ]
  },
  {
   "cell_type": "code",
   "execution_count": 7,
   "metadata": {},
   "outputs": [
    {
     "data": {
      "text/plain": [
       "<langgraph.graph.state.StateGraph at 0x787616b10550>"
      ]
     },
     "execution_count": 7,
     "metadata": {},
     "output_type": "execute_result"
    }
   ],
   "source": [
    "graph_builder.add_node(\"chatbot\", chatbot) # chatbot이라는 이름의 노드로, chatbot을 활용"
   ]
  },
  {
   "cell_type": "markdown",
   "metadata": {},
   "source": [
    "### Tool Node 생성"
   ]
  },
  {
   "cell_type": "code",
   "execution_count": 8,
   "metadata": {},
   "outputs": [
    {
     "data": {
      "text/plain": [
       "<langgraph.graph.state.StateGraph at 0x787616b10550>"
      ]
     },
     "execution_count": 8,
     "metadata": {},
     "output_type": "execute_result"
    }
   ],
   "source": [
    "class BasicToolNode:\n",
    "    \"\"\"A node that runs the tools requested in the last AIMessage.\"\"\"\n",
    "\n",
    "    def __init__(self, tools: list) -> None:\n",
    "        self.tools_by_name = {tool.name: tool for tool in tools}\n",
    "\n",
    "    def __call__(self, inputs: dict):\n",
    "        if messages := inputs.get(\"messages\", []):\n",
    "            message = messages[-1]\n",
    "        else:\n",
    "            raise ValueError(\"No message found in input\")\n",
    "        outputs = []\n",
    "        for tool_call in message.tool_calls:\n",
    "          # tool_call: {'name': 'tavily_search_results_json', 'args': {'query': '오늘 서울 날씨가 어때?'}, 'id': 'call_mDnvuCd8YHmp7XaVK7qYTAAW', 'type': 'tool_call'}\n",
    "            tool_result = self.tools_by_name[tool_call[\"name\"]].invoke(\n",
    "                tool_call[\"args\"]\n",
    "            )\n",
    "            outputs.append(\n",
    "                ToolMessage(\n",
    "                    content=json.dumps(tool_result),\n",
    "                    name=tool_call[\"name\"],\n",
    "                    tool_call_id=tool_call[\"id\"],\n",
    "                )\n",
    "            )\n",
    "        # outputs: [ToolMessage(content='[{\"url\": \"https://news.sbs.co.kr/news/endPage.do?news_id=N1007850214\", \"content\": \"...\"}, {\"url\": \"https://www.yna.co.kr/view/AKR20241024078800009\", \"content\": \"...\"}]', name='tavily_search_results_json', tool_call_id='call_mDnvuCd8YHmp7XaVK7qYTAAW')]\n",
    "        return {\"messages\": outputs}\n",
    "\n",
    "\n",
    "tool_node = BasicToolNode(tools=[tool]) # tool_node는 LLM이 호출한 ToolMessage를 받아서, tools에 있는 tool을 실행하고 결과를 반환\n",
    "graph_builder.add_node(\"toolss\", tool_node) # tools라는 이름의 노드로, tool_node를 활용"
   ]
  },
  {
   "cell_type": "markdown",
   "metadata": {},
   "source": [
    "### Router 생성"
   ]
  },
  {
   "cell_type": "code",
   "execution_count": 9,
   "metadata": {},
   "outputs": [],
   "source": [
    "def route_tools(\n",
    "    state: State,\n",
    "):\n",
    "    \"\"\"\n",
    "    마지막 메시지에 도구 호출이 있으면 ToolNode로 라우팅하기 위해 conditional_edge에서 사용한다.\n",
    "    그렇지 않으면 종료로 라우팅한다.\n",
    "    \"\"\"\n",
    "    if isinstance(state, list):\n",
    "        ai_message = state[-1]\n",
    "    elif messages := state.get(\"messages\", []):\n",
    "        ai_message = messages[-1]\n",
    "    else:\n",
    "        raise ValueError(f\"No messages found in input state to tool_edge: {state}\")\n",
    "    if hasattr(ai_message, \"tool_calls\") and len(ai_message.tool_calls) > 0:\n",
    "        return \"toolss\" # 도구를 사용해야 할 때 \"tools\"를 반환한다.\n",
    "    return END\n",
    "\n",
    "\n",
    "# tools_condition 함수는 챗봇이 도구를 사용해야 하는지 여부를 판단하여,\n",
    "# 도구를 사용해야 할 때는 \"tools\"를 반환하고, 직접 응답해도 될 때는 \"END\"를 반환한다.\n",
    "# 이 조건부 라우팅은 메인 에이전트 루프를 정의한다.\n",
    "graph_builder.add_conditional_edges(\n",
    "    \"chatbot\",\n",
    "    route_tools,\n",
    "    # 다음 dict는 그래프에 조건의 출력을 특정 노드로 해석하도록 지시할 수 있다.\n",
    "    # 기본적으로는 identity 함수로 설정되지만, \"tools\" 이외의 다른 이름을 가진 노드를 사용하려면 dict 값을 변경할 수 있다.\n",
    "    # 예: \"tools\": \"my_tools\"    {\"tools\": \"tools\", END: END},\n",
    ")\n",
    "# 도구가 호출될 때마다 우리는 다음 단계를 결정하기 위해 다시 챗봇으로 돌아간다.\n",
    "graph_builder.add_edge(\"toolss\", \"chatbot\")\n",
    "graph_builder.add_edge(START, \"chatbot\")\n",
    "graph = graph_builder.compile()"
   ]
  },
  {
   "cell_type": "markdown",
   "metadata": {},
   "source": [
    "### 시각화"
   ]
  },
  {
   "cell_type": "code",
   "execution_count": 10,
   "metadata": {},
   "outputs": [
    {
     "data": {
      "image/jpeg": "[encoded data removed]",
      "text/plain": [
       "<IPython.core.display.Image object>"
      ]
     },
     "metadata": {},
     "output_type": "display_data"
    }
   ],
   "source": [
    "from IPython.display import Image, display\n",
    "\n",
    "try:\n",
    "    display(\n",
    "        Image(\n",
    "            graph.get_graph().draw_mermaid_png(\n",
    "                output_file_path=\"./chatbot_with_tool.png\"\n",
    "            )\n",
    "        )\n",
    "    )\n",
    "except Exception:\n",
    "    # This requires some extra dependencies and is optional\n",
    "    pass"
   ]
  },
  {
   "cell_type": "markdown",
   "metadata": {},
   "source": [
    "### Run"
   ]
  },
  {
   "cell_type": "code",
   "execution_count": 39,
   "metadata": {},
   "outputs": [
    {
     "name": "stdout",
     "output_type": "stream",
     "text": [
      "Assistant: \n",
      "Assistant: [{\"url\": \"https://github.com/langchain-ai/langgraph\", \"content\": \"LangGraph is a library for building stateful, multi-actor applications with LLMs, used to create agent and multi-agent workflows. Compared to other LLM frameworks, it offers these core benefits: cycles, controllability, and persistence. LangGraph allows you to define flows that involve cycles, essential for most agentic architectures, differentiating it from DAG-based solutions.\"}, {\"url\": \"https://www.langchain.com/langgraph\", \"content\": \"Controllable cognitive architecture for any task. LangGraph's flexible API supports diverse control flows - single agent, multi-agent, hierarchical, sequential - and robustly handles realistic, complex scenarios. Ensure reliability with easy-to-add moderation and quality loops that prevent agents from veering off course.\"}]\n",
      "Assistant: ## Exploring LangGraph: A New Era of Stateful Applications with LLMs\n",
      "\n",
      "In the rapidly evolving landscape of artificial intelligence and machine learning, frameworks that can efficiently manage complex workflows are becoming increasingly essential. One such groundbreaking library is LangGraph. Designed to build stateful, multi-actor applications with large language models (LLMs), LangGraph offers a robust solution for creating agent and multi-agent workflows. In this blog, we'll delve into what makes LangGraph a standout choice among LLM frameworks and explore its core features that cater to modern AI needs.\n",
      "\n",
      "### Introducing LangGraph\n",
      "\n",
      "LangGraph is a sophisticated library aimed at developing applications that require intricate workflow management, particularly involving language models. It is especially useful in scenarios where multiple agents interact or where stateful operations are critical. By providing a flexible and powerful framework, LangGraph enables developers to construct applications that can handle complex, real-world tasks with ease.\n",
      "\n",
      "### Key Features of LangGraph\n",
      "\n",
      "#### 1. Cycles\n",
      "\n",
      "Unlike many traditional frameworks that use Directed Acyclic Graphs (DAGs) for workflow management, LangGraph introduces the concept of cycles. This is a crucial feature for agentic architectures, where iterative processes and feedback loops play a significant role. Cycles allow for the creation of more dynamic and responsive applications, capable of adjusting to changing inputs and outcomes.\n",
      "\n",
      "#### 2. Controllability\n",
      "\n",
      "LangGraph emphasizes controllability through its flexible API, which supports various control flows. Whether you're working with single-agent systems, multi-agent interactions, hierarchical structures, or sequential tasks, LangGraph provides the tools to manage these effectively. This level of control is vital for ensuring that AI systems operate reliably and safely, even in complex scenarios.\n",
      "\n",
      "#### 3. Persistence\n",
      "\n",
      "Persistence is another standout feature of LangGraph. It allows applications to maintain state across interactions, which is essential for developing sophisticated, long-running processes. This capability ensures that applications can continue from where they left off, preserving context and improving efficiency.\n",
      "\n",
      "### Building Robust Applications with LangGraph\n",
      "\n",
      "One of the key advantages of LangGraph is its ability to handle realistic, complex scenarios. Its architecture supports the integration of moderation and quality loops, which help prevent AI agents from deviating from expected behaviors. This ensures that applications remain reliable and consistent, even as they tackle challenging tasks.\n",
      "\n",
      "### Conclusion\n",
      "\n",
      "LangGraph stands out as a powerful tool for developers looking to harness the potential of LLMs in stateful and multi-agent applications. Its innovative features like cycles, controllability, and persistence make it an ideal choice for building advanced AI systems that are both reliable and adaptable. As AI continues to evolve, frameworks like LangGraph will play a pivotal role in shaping the future of intelligent applications. Whether you're developing interactive agents, complex workflows, or state-driven applications, LangGraph provides the foundation you need to succeed.\n",
      "done\n",
      "Goodbye!\n"
     ]
    }
   ],
   "source": [
    "def stream_graph_updates(user_input: str):\n",
    "    for event in graph.stream({\"messages\": [(\"user\", user_input)]}):\n",
    "        for value in event.values():\n",
    "            print(\"Assistant:\", value[\"messages\"][-1].content)\n",
    "    print(\"done\")\n",
    "\n",
    "while True:\n",
    "    try:\n",
    "        user_input = input(\"User: \")\n",
    "        if user_input.lower() in [\"quit\", \"exit\", \"q\"]:\n",
    "            print(\"Goodbye!\")\n",
    "            break\n",
    "\n",
    "        stream_graph_updates(user_input)\n",
    "    except:\n",
    "        # fallback if input() is not available\n",
    "        user_input = \"What do you know about LangGraph?\"\n",
    "        print(\"User: \" + user_input)\n",
    "        stream_graph_updates(user_input)\n",
    "        break\n"
   ]
  },
  {
   "cell_type": "code",
   "execution_count": 14,
   "metadata": {},
   "outputs": [
    {
     "name": "stdout",
     "output_type": "stream",
     "text": [
      "Assistant: \n",
      "Assistant: [{\"url\": \"https://langchain-ai.github.io/langgraph/\", \"content\": \"LangGraph is a framework for creating stateful, multi-actor applications with LLMs, using cycles, controllability, and persistence. Learn how to use LangGraph with LangChain, LangSmith, and Anthropic tools to build agent and multi-agent workflows.\"}, {\"url\": \"https://langchain-ai.github.io/langgraph/tutorials/\", \"content\": \"LangGraph is a framework for building language agents as graphs. Learn how to use LangGraph to create chatbots, code assistants, planning agents, reflection agents, and more with these notebooks.\"}]\n",
      "Assistant: LangGraph is a framework designed for creating stateful, multi-actor applications using large language models (LLMs). It leverages cycles, controllability, and persistence to build agent and multi-agent workflows. LangGraph is used in conjunction with tools like LangChain, LangSmith, and Anthropic to create various types of language agents, such as chatbots, code assistants, planning agents, and reflection agents. For more information and tutorials, you can visit their [official website](https://langchain-ai.github.io/langgraph/).\n"
     ]
    }
   ],
   "source": [
    "for event in graph.stream({\"messages\": [(\"user\", \"what is langgraph\")]}):\n",
    "    for value in event.values():\n",
    "        print(\"Assistant:\", value[\"messages\"][-1].content)"
   ]
  },
  {
   "cell_type": "code",
   "execution_count": 24,
   "metadata": {},
   "outputs": [
    {
     "name": "stdout",
     "output_type": "stream",
     "text": [
      "LangGraph is a framework designed for creating stateful, multi-actor applications using large language models (LLMs). It leverages cycles, controllability, and persistence to build agent and multi-agent workflows. LangGraph is used in conjunction with tools like LangChain, LangSmith, and Anthropic to create various types of language agents, such as chatbots, code assistants, planning agents, and reflection agents. For more information and tutorials, you can visit their [official website](https://langchain-ai.github.io/langgraph/).\n"
     ]
    }
   ],
   "source": [
    "for v in event.values():\n",
    "    print(v[\"messages\"][-1].content)"
   ]
  },
  {
   "cell_type": "code",
   "execution_count": 25,
   "metadata": {},
   "outputs": [
    {
     "data": {
      "text/plain": [
       "{'chatbot': {'messages': [AIMessage(content='LangGraph is a framework designed for creating stateful, multi-actor applications using large language models (LLMs). It leverages cycles, controllability, and persistence to build agent and multi-agent workflows. LangGraph is used in conjunction with tools like LangChain, LangSmith, and Anthropic to create various types of language agents, such as chatbots, code assistants, planning agents, and reflection agents. For more information and tutorials, you can visit their [official website](https://langchain-ai.github.io/langgraph/).', additional_kwargs={'refusal': None}, response_metadata={'token_usage': {'completion_tokens': 108, 'prompt_tokens': 246, 'total_tokens': 354, 'completion_tokens_details': {'audio_tokens': None, 'reasoning_tokens': 0}, 'prompt_tokens_details': {'audio_tokens': None, 'cached_tokens': 0}}, 'model_name': 'gpt-4o-2024-08-06', 'system_fingerprint': 'fp_159d8341cc', 'finish_reason': 'stop', 'logprobs': None}, id='run-a0d6e8a7-580a-47b2-8466-c59f3a9edce6-0', usage_metadata={'input_tokens': 246, 'output_tokens': 108, 'total_tokens': 354, 'input_token_details': {'cache_read': 0}, 'output_token_details': {'reasoning': 0}})]}}"
      ]
     },
     "execution_count": 25,
     "metadata": {},
     "output_type": "execute_result"
    }
   ],
   "source": [
    "event"
   ]
  },
  {
   "cell_type": "code",
   "execution_count": null,
   "metadata": {},
   "outputs": [],
   "source": []
  }
 ],
 "metadata": {
  "kernelspec": {
   "display_name": "langgraph",
   "language": "python",
   "name": "python3"
  },
  "language_info": {
   "codemirror_mode": {
    "name": "ipython",
    "version": 3
   },
   "file_extension": ".py",
   "mimetype": "text/x-python",
   "name": "python",
   "nbconvert_exporter": "python",
   "pygments_lexer": "ipython3",
   "version": "3.11.7"
  }
 },
 "nbformat": 4,
 "nbformat_minor": 2
}
