{
 "cells": [
  {
   "cell_type": "code",
   "execution_count": 1,
   "metadata": {},
   "outputs": [
    {
     "data": {
      "text/plain": [
       "True"
      ]
     },
     "execution_count": 1,
     "metadata": {},
     "output_type": "execute_result"
    }
   ],
   "source": [
    "from dotenv import load_dotenv\n",
    "import os\n",
    "from pydantic import BaseModel\n",
    "import functools\n",
    "import operator\n",
    "import json\n",
    "from IPython.display import Image, display\n",
    "\n",
    "from typing import Annotated, Literal, Sequence\n",
    "from typing_extensions import TypedDict\n",
    "\n",
    "from langchain_community.tools.tavily_search import TavilySearchResults\n",
    "from langchain_openai import ChatOpenAI\n",
    "from langchain_core.messages import BaseMessage, AIMessage, ToolMessage, HumanMessage\n",
    "from langgraph.prebuilt import ToolNode, tools_condition\n",
    "from langgraph.checkpoint.memory import MemorySaver\n",
    "from langchain_core.prompts import ChatPromptTemplate, MessagesPlaceholder\n",
    "\n",
    "from langgraph.graph import StateGraph, START, END\n",
    "from langgraph.graph.message import add_messages\n",
    "from langchain_experimental.tools import PythonREPLTool\n",
    "from langgraph.prebuilt import create_react_agent\n",
    "from pydantic import BaseModel, Field\n",
    "from PIL import Image\n",
    "import base64\n",
    "\n",
    "# .env 파일 로드\n",
    "load_dotenv()"
   ]
  },
  {
   "cell_type": "code",
   "execution_count": 2,
   "metadata": {},
   "outputs": [],
   "source": [
    "llm = ChatOpenAI(model=\"gpt-4o\")"
   ]
  },
  {
   "cell_type": "code",
   "execution_count": 3,
   "metadata": {},
   "outputs": [],
   "source": [
    "class medicalOcrResponse(BaseModel):\n",
    "    venous: float = Field(\n",
    "        description=\"정맥압 (mmHg)\",\n",
    "        example=\"140\"\n",
    "    )\n",
    "    arterial: float = Field(\n",
    "        description=\"동맥압 (mmHg)\",\n",
    "        example=\"-165\"\n",
    "    )\n",
    "    sys: float = Field(\n",
    "        description=\"수축기 (mmHg)\",\n",
    "        example=\"130\"\n",
    "    )\n",
    "    dia: float = Field(\n",
    "        description=\"이완기 (mmHg)\",\n",
    "        example=\"75\"\n",
    "    )\n",
    "    blood_flow: float = Field(\n",
    "        description=\"혈류속도 (mL/min)\",\n",
    "        example=\"300\"\n",
    "    )\n",
    "    pulse: float = Field(\n",
    "        description=\"맥박 (bpm)\",\n",
    "        example=\"70\"\n",
    "    )"
   ]
  },
  {
   "cell_type": "code",
   "execution_count": 4,
   "metadata": {},
   "outputs": [],
   "source": [
    "medica_ocr_prompt = ChatPromptTemplate.from_messages(\n",
    "    [\n",
    "        (\"system\", \n",
    "         \"너는 의료기기 이미지에서 필요한 의료 수치를 추출해내는 OCR agent야\"\n",
    "         \"너가 추출해야하는 수치는 아래와 같아.\"\n",
    "         \"<추출 할 키워드>\"\n",
    "         \"정맥압(Venous, mmHg)\"\n",
    "         \"동맥압(Arterial, mmHg)\"\n",
    "         \"수축기 혈압(sys, mmHg)\"\n",
    "         \"이완기 혈압(dia, mmHg)\"\n",
    "         \"혈류속도(Blood Flow, mL/min)\"\n",
    "         \"맥박수(Pulse, bpm)\"\n",
    "         \"</추출 할 키워드>\"\n",
    "         \"의료 기기의 모니터 화면 이미지에서 위의 값을 추출해줘.\"\n",
    "        ),\n",
    "        MessagesPlaceholder(variable_name=\"messages\"),\n",
    "    ]\n",
    ")"
   ]
  },
  {
   "cell_type": "code",
   "execution_count": 5,
   "metadata": {},
   "outputs": [],
   "source": [
    "ocr_agent = medica_ocr_prompt | llm.with_structured_output(medicalOcrResponse)"
   ]
  },
  {
   "cell_type": "code",
   "execution_count": 13,
   "metadata": {},
   "outputs": [],
   "source": [
    "image_path = \"/home/livin/langgraph/data/image copy 2.png\"\n",
    "with open(image_path, \"rb\") as image_file:\n",
    "    image_data = base64.b64encode(image_file.read()).decode(\"utf-8\")"
   ]
  },
  {
   "cell_type": "code",
   "execution_count": null,
   "metadata": {},
   "outputs": [],
   "source": []
  },
  {
   "cell_type": "code",
   "execution_count": 14,
   "metadata": {},
   "outputs": [],
   "source": [
    "message = HumanMessage(\n",
    "    content=[\n",
    "        {\n",
    "            \"type\": \"image_url\",\n",
    "            \"image_url\": {\"url\": f\"data:image/jpeg;base64,{image_data}\"},\n",
    "        },\n",
    "    ],\n",
    ")"
   ]
  },
  {
   "cell_type": "code",
   "execution_count": 15,
   "metadata": {},
   "outputs": [
    {
     "data": {
      "text/plain": [
       "medicalOcrResponse(venous=170.0, arterial=90.0, sys=128.0, dia=92.0, blood_flow=240.0, pulse=88.0)"
      ]
     },
     "execution_count": 15,
     "metadata": {},
     "output_type": "execute_result"
    }
   ],
   "source": [
    "ocr_agent.invoke([message])"
   ]
  },
  {
   "cell_type": "code",
   "execution_count": null,
   "metadata": {},
   "outputs": [],
   "source": []
  }
 ],
 "metadata": {
  "kernelspec": {
   "display_name": "langgraph",
   "language": "python",
   "name": "python3"
  },
  "language_info": {
   "codemirror_mode": {
    "name": "ipython",
    "version": 3
   },
   "file_extension": ".py",
   "mimetype": "text/x-python",
   "name": "python",
   "nbconvert_exporter": "python",
   "pygments_lexer": "ipython3",
   "version": "3.11.7"
  }
 },
 "nbformat": 4,
 "nbformat_minor": 2
}
