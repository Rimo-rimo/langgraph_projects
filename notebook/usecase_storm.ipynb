{
 "cells": [
  {
   "cell_type": "markdown",
   "metadata": {},
   "source": [
    "### Module"
   ]
  },
  {
   "cell_type": "code",
   "execution_count": 1,
   "metadata": {},
   "outputs": [
    {
     "data": {
      "text/plain": [
       "True"
      ]
     },
     "execution_count": 1,
     "metadata": {},
     "output_type": "execute_result"
    }
   ],
   "source": [
    "from dotenv import load_dotenv\n",
    "import os\n",
    "from typing import List, Optional, Annotated\n",
    "from pydantic import BaseModel, Field\n",
    "from typing_extensions import TypedDict\n",
    "\n",
    "from langgraph.graph import END, StateGraph, START\n",
    "\n",
    "from langchain_openai import ChatOpenAI\n",
    "from langchain_core.prompts import ChatPromptTemplate\n",
    "from langchain_community.retrievers import WikipediaRetriever\n",
    "from langchain_core.runnables import RunnableLambda\n",
    "from langchain_core.runnables import chain as as_runnable\n",
    "from langchain_core.messages import AnyMessage\n",
    "from langchain_community.tools.tavily_search import TavilySearchResults\n",
    "\n",
    "load_dotenv()"
   ]
  },
  {
   "cell_type": "markdown",
   "metadata": {},
   "source": [
    "### LLM 세팅"
   ]
  },
  {
   "cell_type": "code",
   "execution_count": 2,
   "metadata": {},
   "outputs": [],
   "source": [
    "fast_llm = ChatOpenAI(model=\"gpt-4o-mini\")\n",
    "long_context_llm = ChatOpenAI(model=\"gpt-4o\")"
   ]
  },
  {
   "cell_type": "markdown",
   "metadata": {},
   "source": [
    "# Outline 생성을 위한 작업\n",
    "* 사용자의 topic에 대해서, wikipedia 형식의 초안을 작성"
   ]
  },
  {
   "cell_type": "code",
   "execution_count": 3,
   "metadata": {},
   "outputs": [],
   "source": [
    "direct_gen_outline_prompt = ChatPromptTemplate.from_messages(\n",
    "    [\n",
    "        (\n",
    "            \"system\",\n",
    "            \"You are a Wikipedia writer. Write an outline for a Wikipedia page about a user-provided topic. Be comprehensive and specific.\",\n",
    "        ),\n",
    "        (\"user\", \"{topic}\"),\n",
    "    ]\n",
    ")\n",
    "\n",
    "class Subsection(BaseModel):\n",
    "    subsection_title: str = Field(..., title=\"Title of the subsection\")\n",
    "    description: str = Field(..., title=\"Content of the subsection\")\n",
    "\n",
    "    @property\n",
    "    def as_str(self) -> str:\n",
    "        return f\"### {self.subsection_title}\\n\\n{self.description}\".strip()\n",
    "    \n",
    "class Section(BaseModel):\n",
    "    section_title: str = Field(..., title=\"Title of the section\")\n",
    "    description: str = Field(..., title=\"Content of the section\")\n",
    "    subsections: Optional[List[Subsection]] = Field(\n",
    "        default=None,\n",
    "        title=\"Titles and descriptions for each subsection of the Wikipedia page.\",\n",
    "    )\n",
    "\n",
    "    @property\n",
    "    def as_str(self) -> str:\n",
    "        subsections = \"\\n\\n\".join(\n",
    "            f\"### {subsection.subsection_title}\\n\\n{subsection.description}\"\n",
    "            for subsection in self.subsections or []\n",
    "        )\n",
    "        return f\"## {self.section_title}\\n\\n{self.description}\\n\\n{subsections}\".strip()\n",
    "\n",
    "class Outline(BaseModel):\n",
    "    page_title: str = Field(..., title=\"Title of the Wikipedia page\")\n",
    "    sections: List[Section] = Field(\n",
    "        default_factory=list,\n",
    "        title=\"Titles and descriptions for each section of the Wikipedia page.\",\n",
    "    )\n",
    "\n",
    "    @property\n",
    "    def as_str(self) -> str:\n",
    "        sections = \"\\n\\n\".join(section.as_str for section in self.sections)\n",
    "        return f\"# {self.page_title}\\n\\n{sections}\".strip()\n",
    "\n",
    "generate_outline_direct = direct_gen_outline_prompt | fast_llm.with_structured_output(\n",
    "    Outline\n",
    ")"
   ]
  },
  {
   "cell_type": "code",
   "execution_count": 4,
   "metadata": {},
   "outputs": [
    {
     "name": "stdout",
     "output_type": "stream",
     "text": [
      "# Impact of Million-Plus Token Context Window Language Models on RAG\n",
      "\n",
      "## Introduction\n",
      "\n",
      "An overview of language models and their relevance in natural language processing (NLP). Introduction to the concept of a context window, particularly in relation to million-plus token models and their significance in Retrieval-Augmented Generation (RAG).\n",
      "\n",
      "## Understanding Language Models\n",
      "\n",
      "A detailed explanation of language models, including their architecture, training processes, and the evolution from traditional models to modern transformer-based models.\n",
      "\n",
      "## Context Windows in Language Models\n",
      "\n",
      "Definition and importance of context windows in language models. Discussion on how larger context windows enhance model capabilities in understanding and generating human-like text.\n",
      "\n",
      "## Retrieval-Augmented Generation (RAG)\n",
      "\n",
      "An explanation of the RAG framework, including its components: retrieval and generation. Discussion on how RAG improves the performance of language models by incorporating external knowledge.\n",
      "\n",
      "## Impact of Million-Plus Token Context Windows on RAG\n",
      "\n",
      "Analysis of how million-plus token context windows influence the effectiveness and efficiency of RAG models. Key points include improved coherence, relevance of generated text, and memory handling.\n",
      "\n",
      "## Benefits of Large Context Windows in RAG\n",
      "\n",
      "Exploration of the advantages brought by large context windows, such as enhanced contextual understanding, better handling of long documents, and the ability to maintain conversational context over extended interactions.\n",
      "\n",
      "## Challenges and Limitations\n",
      "\n",
      "A discussion of the challenges faced when implementing million-plus token context window models in RAG, including computational costs, data retrieval efficiency, and potential biases.\n",
      "\n",
      "## Case Studies and Applications\n",
      "\n",
      "Examples of successful implementations of million-plus token context window models in RAG applications across various fields such as healthcare, customer support, and content generation.\n",
      "\n",
      "## Future Directions\n",
      "\n",
      "Speculation on the future development of language models and RAG frameworks. Consideration of potential advancements in context window sizes, model architectures, and applications.\n",
      "\n",
      "## Conclusion\n",
      "\n",
      "A recap of the key points discussed in the article, emphasizing the transformative potential of million-plus token context windows in enhancing RAG systems.\n",
      "\n",
      "## References\n",
      "\n",
      "A list of scholarly articles, books, and other resources referenced throughout the article.\n"
     ]
    }
   ],
   "source": [
    "example_topic = \"Impact of million-plus token context window language models on RAG\"\n",
    "\n",
    "initial_outline = generate_outline_direct.invoke({\"topic\": example_topic})\n",
    "\n",
    "print(initial_outline.as_str)"
   ]
  },
  {
   "cell_type": "markdown",
   "metadata": {},
   "source": [
    "# Expand Topics\n",
    "* 검색엔진을 활용해 관련성있는 최신 정보를 통합 하여 더 나은 결과로 개선"
   ]
  },
  {
   "cell_type": "code",
   "execution_count": 5,
   "metadata": {},
   "outputs": [],
   "source": [
    "gen_related_topics_prompt = ChatPromptTemplate.from_template(\n",
    "    \"\"\"I'm writing a Wikipedia page for a topic mentioned below. Please identify and recommend some Wikipedia pages on closely related subjects. I'm looking for examples that provide insights into interesting aspects commonly associated with this topic, or examples that help me understand the typical content and structure included in Wikipedia pages for similar topics.\n",
    "       Please list the as many subjects and urls as you can.\n",
    "       Topic of interest: {topic}\n",
    "    \"\"\"\n",
    "    )\n",
    "\n",
    "class RelatedSubjects(BaseModel):\n",
    "    topics: List[str] = Field(\n",
    "        description=\"Comprehensive list of related subjects as background research.\",\n",
    "    )\n",
    "\n",
    "expand_chain = gen_related_topics_prompt | fast_llm.with_structured_output(\n",
    "    RelatedSubjects\n",
    ")"
   ]
  },
  {
   "cell_type": "code",
   "execution_count": 6,
   "metadata": {},
   "outputs": [
    {
     "data": {
      "text/plain": [
       "RelatedSubjects(topics=['Impact of million-plus token context window language models on RAG', 'Language models', 'Contextual language models', 'Retrieval-augmented generation (RAG)', 'Natural language processing', 'Machine learning', 'Artificial intelligence', 'Transformers in AI', 'Text generation', 'Large language models', 'Tokenization in NLP', 'Applications of language models', 'AI and language understanding', 'Ethics in AI'])"
      ]
     },
     "execution_count": 6,
     "metadata": {},
     "output_type": "execute_result"
    }
   ],
   "source": [
    "related_subjects = await expand_chain.ainvoke({\"topic\": example_topic})\n",
    "related_subjects"
   ]
  },
  {
   "cell_type": "markdown",
   "metadata": {},
   "source": [
    "# Generate Perspectives"
   ]
  },
  {
   "cell_type": "code",
   "execution_count": 12,
   "metadata": {},
   "outputs": [],
   "source": [
    "class Editor(BaseModel):\n",
    "    affiliation: str = Field(\n",
    "        description=\"Primary affiliation of the editor.\",\n",
    "    )\n",
    "    name: str = Field(\n",
    "        description=\"Name of the editor.\", pattern=r'^[a-zA-Z0-9_-]+$'\n",
    "    )\n",
    "    role: str = Field(\n",
    "        description=\"Role of the editor in the context of the topic.\",\n",
    "    )\n",
    "    description: str = Field(\n",
    "        description=\"Description of the editor's focus, concerns, and motives.\",\n",
    "    )\n",
    "\n",
    "    @property\n",
    "    def persona(self) -> str:\n",
    "        return f\"Name: {self.name}\\nRole: {self.role}\\nAffiliation: {self.affiliation}\\nDescription: {self.description}\\n\"\n",
    "\n",
    "\n",
    "class Perspectives(BaseModel):\n",
    "    editors: List[Editor] = Field(\n",
    "        description=\"Comprehensive list of editors with their roles and affiliations. The name should be this pattern : ^[a-zA-Z0-9_-]+$\",\n",
    "        # Add a pydantic validation/restriction to be at most M editors\n",
    "    )\n",
    "\n",
    "\n",
    "gen_perspectives_prompt = ChatPromptTemplate.from_messages(\n",
    "    [\n",
    "        (\n",
    "            \"system\",\n",
    "            \"\"\"You need to select a diverse (and distinct) group of Wikipedia editors who will work together to create a comprehensive article on the topic. Each of them represents a different perspective, role, or affiliation related to this topic.\\\n",
    "    You can use other Wikipedia pages of related topics for inspiration. For each editor, add a description of what they will focus on.\n",
    "\n",
    "    Wiki page outlines of related topics for inspiration:\n",
    "    {examples}\"\"\",\n",
    "        ),\n",
    "        (\"user\", \"Topic of interest: {topic}\"),\n",
    "    ]\n",
    ")\n",
    "\n",
    "gen_perspectives_chain = gen_perspectives_prompt | ChatOpenAI(\n",
    "    model=\"gpt-4o\"\n",
    ").with_structured_output(Perspectives)"
   ]
  },
  {
   "cell_type": "code",
   "execution_count": 13,
   "metadata": {},
   "outputs": [],
   "source": [
    "wikipedia_retriever = WikipediaRetriever(load_all_available_meta=True, top_k_results=1)\n",
    "\n",
    "\n",
    "def format_doc(doc, max_length=1000):\n",
    "    related = \"- \".join(doc.metadata[\"categories\"])\n",
    "    return f\"### {doc.metadata['title']}\\n\\nSummary: {doc.page_content}\\n\\nRelated\\n{related}\"[\n",
    "        :max_length\n",
    "    ]\n",
    "\n",
    "\n",
    "def format_docs(docs):\n",
    "    return \"\\n\\n\".join(format_doc(doc) for doc in docs)\n",
    "\n",
    "\n",
    "@as_runnable\n",
    "async def survey_subjects(topic: str):\n",
    "    related_subjects = await expand_chain.ainvoke({\"topic\": topic})\n",
    "    retrieved_docs = await wikipedia_retriever.abatch(\n",
    "        related_subjects.topics, return_exceptions=True\n",
    "    )\n",
    "    all_docs = []\n",
    "    for docs in retrieved_docs:\n",
    "        if isinstance(docs, BaseException):\n",
    "            continue\n",
    "        all_docs.extend(docs)\n",
    "    formatted = format_docs(all_docs)\n",
    "    return await gen_perspectives_chain.ainvoke({\"examples\": formatted, \"topic\": topic})"
   ]
  },
  {
   "cell_type": "code",
   "execution_count": 14,
   "metadata": {},
   "outputs": [],
   "source": [
    "perspectives = await survey_subjects.ainvoke(example_topic)"
   ]
  },
  {
   "cell_type": "code",
   "execution_count": 15,
   "metadata": {},
   "outputs": [
    {
     "data": {
      "text/plain": [
       "{'editors': [{'affiliation': 'AI Research Institute',\n",
       "   'name': 'Dr_Samantha_Lee',\n",
       "   'role': 'Lead Researcher',\n",
       "   'description': 'Dr. Lee will focus on the technical advancements of language models with million-plus token context windows and how these improvements enhance retrieval-augmented generation (RAG) capabilities. She will explore the scalability of these models and their potential to process and generate more accurate and contextually rich responses.'},\n",
       "  {'affiliation': 'OpenAI',\n",
       "   'name': 'John_Martinez',\n",
       "   'role': 'AI Ethicist',\n",
       "   'description': 'John will explore the ethical implications of using large context window language models in RAG, including issues related to data privacy, bias, and misinformation. He aims to ensure that these models are developed and deployed responsibly.'},\n",
       "  {'affiliation': 'Tech Industry Consultant',\n",
       "   'name': 'Emily_Tan',\n",
       "   'role': 'Industry Analyst',\n",
       "   'description': 'Emily will analyze the commercial applications and market impact of integrating million-plus token context window language models into RAG systems. Her focus will be on identifying key industries that benefit from these advancements and predicting future trends.'},\n",
       "  {'affiliation': 'University of Cambridge',\n",
       "   'name': 'Prof_Alan_Smith',\n",
       "   'role': 'Academic Scholar',\n",
       "   'description': 'Prof. Smith will provide a historical perspective on the evolution of language models, from their inception to the development of million-plus token context windows. He will discuss the theoretical underpinnings and breakthroughs that made this advancement possible.'},\n",
       "  {'affiliation': 'Data Privacy Advocacy Group',\n",
       "   'name': 'Nina_Roberts',\n",
       "   'role': 'Privacy Advocate',\n",
       "   'description': 'Nina will address the data privacy concerns associated with using extensive language models in RAG systems. She will advocate for transparent data usage policies and the importance of safeguarding user data against unauthorized access or misuse.'},\n",
       "  {'affiliation': 'AI Development Firm',\n",
       "   'name': 'Rajesh_Kumar',\n",
       "   'role': 'Software Engineer',\n",
       "   'description': 'Rajesh will focus on the practical implementation of million-plus token context window models in RAG systems. He will discuss the engineering challenges and solutions, including computational resource management and system optimization for real-time applications.'},\n",
       "  {'affiliation': 'Journalist and Tech Blogger',\n",
       "   'name': 'Lisa_Chen',\n",
       "   'role': 'Public Communicator',\n",
       "   'description': 'Lisa will translate complex technical information about these advanced language models and RAG systems into accessible content for the general public. Her goal is to raise awareness and understanding of the implications of these technologies in everyday life.'}]}"
      ]
     },
     "execution_count": 15,
     "metadata": {},
     "output_type": "execute_result"
    }
   ],
   "source": [
    "perspectives.dict()"
   ]
  },
  {
   "cell_type": "markdown",
   "metadata": {},
   "source": [
    "# Expert Dialog"
   ]
  },
  {
   "cell_type": "markdown",
   "metadata": {},
   "source": [
    "### interview state 정의"
   ]
  },
  {
   "cell_type": "code",
   "execution_count": 16,
   "metadata": {},
   "outputs": [],
   "source": [
    "def add_messages(left, right):\n",
    "    if not isinstance(left, list):\n",
    "        left = [left]\n",
    "    if not isinstance(right, list):\n",
    "        right = [right]\n",
    "    return left + right\n",
    "\n",
    "def update_references(references, new_references):\n",
    "    if not references:\n",
    "        references = {}\n",
    "    references.update(new_references)\n",
    "    return references\n",
    "\n",
    "def update_editor(editor, new_editor):\n",
    "    # Can only set at the outset\n",
    "    if not editor:\n",
    "        return new_editor\n",
    "    return editor\n",
    "\n",
    "class InterviewState(TypedDict):\n",
    "    messages: Annotated[List[AnyMessage], add_messages]\n",
    "    references: Annotated[Optional[dict], update_references]\n",
    "    editor: Annotated[Optional[Editor], update_editor]"
   ]
  },
  {
   "cell_type": "markdown",
   "metadata": {},
   "source": [
    "##### 1. Dialog Roles"
   ]
  },
  {
   "cell_type": "code",
   "execution_count": 17,
   "metadata": {},
   "outputs": [],
   "source": [
    "from langchain_core.messages import AIMessage, HumanMessage, ToolMessage\n",
    "from langchain_core.prompts import MessagesPlaceholder\n",
    "\n",
    "gen_qn_prompt = ChatPromptTemplate.from_messages(\n",
    "    [\n",
    "        (\n",
    "            \"system\",\n",
    "            \"\"\"You are an experienced Wikipedia writer and want to edit a specific page. \\\n",
    "Besides your identity as a Wikipedia writer, you have a specific focus when researching the topic. \\\n",
    "Now, you are chatting with an expert to get information. Ask good questions to get more useful information.\n",
    "\n",
    "When you have no more questions to ask, say \"Thank you so much for your help!\" to end the conversation.\\\n",
    "Please only ask one question at a time and don't ask what you have asked before.\\\n",
    "Your questions should be related to the topic you want to write.\n",
    "Be comprehensive and curious, gaining as much unique insight from the expert as possible.\\\n",
    "\n",
    "Stay true to your specific perspective:\n",
    "\n",
    "{persona}\"\"\",\n",
    "        ),\n",
    "        MessagesPlaceholder(variable_name=\"messages\", optional=True),\n",
    "    ]\n",
    ")\n",
    "\n",
    "\n",
    "def tag_with_name(ai_message: AIMessage, name: str):\n",
    "    ai_message.name = name\n",
    "    return ai_message\n",
    "\n",
    "\n",
    "def swap_roles(state: InterviewState, name: str):\n",
    "    converted = []\n",
    "    for message in state[\"messages\"]:\n",
    "        if isinstance(message, AIMessage) and message.name != name:\n",
    "            message = HumanMessage(**message.dict(exclude={\"type\"}))\n",
    "        converted.append(message)\n",
    "    return {\"messages\": converted}\n",
    "\n",
    "\n",
    "@as_runnable\n",
    "async def generate_question(state: InterviewState):\n",
    "    editor = state[\"editor\"]\n",
    "    gn_chain = (\n",
    "        RunnableLambda(swap_roles).bind(name=editor.name)\n",
    "        | gen_qn_prompt.partial(persona=editor.persona)\n",
    "        | fast_llm\n",
    "        | RunnableLambda(tag_with_name).bind(name=editor.name)\n",
    "    )\n",
    "    result = await gn_chain.ainvoke(state)\n",
    "    return {\"messages\": [result]}"
   ]
  },
  {
   "cell_type": "code",
   "execution_count": 18,
   "metadata": {},
   "outputs": [
    {
     "data": {
      "text/plain": [
       "\"Yes, I'm focusing on how language models with million-plus token context windows can enhance Retrieval-Augmented Generation (RAG) systems. Can you explain how these extended context windows change the way RAG systems retrieve and generate information?\""
      ]
     },
     "execution_count": 18,
     "metadata": {},
     "output_type": "execute_result"
    }
   ],
   "source": [
    "messages = [\n",
    "    HumanMessage(f\"So you said you were writing an article on {example_topic}?\")\n",
    "]\n",
    "question = await generate_question.ainvoke(\n",
    "    {\n",
    "        \"editor\": perspectives.editors[-1],\n",
    "        \"messages\": messages,\n",
    "    }\n",
    ")\n",
    "\n",
    "question[\"messages\"][0].content"
   ]
  },
  {
   "cell_type": "code",
   "execution_count": 19,
   "metadata": {},
   "outputs": [
    {
     "data": {
      "text/plain": [
       "[AIMessage(content=\"Yes, I'm focusing on how language models with million-plus token context windows can enhance Retrieval-Augmented Generation (RAG) systems. Can you explain how these extended context windows change the way RAG systems retrieve and generate information?\", additional_kwargs={'refusal': None}, response_metadata={'token_usage': {'completion_tokens': 45, 'prompt_tokens': 225, 'total_tokens': 270, 'completion_tokens_details': {'audio_tokens': None, 'reasoning_tokens': 0}, 'prompt_tokens_details': {'audio_tokens': None, 'cached_tokens': 0}}, 'model_name': 'gpt-4o-mini-2024-07-18', 'system_fingerprint': 'fp_0ba0d124f1', 'finish_reason': 'stop', 'logprobs': None}, name='Lisa_Chen', id='run-7192aff5-f39c-4ffc-b52e-de40ed4f21df-0', usage_metadata={'input_tokens': 225, 'output_tokens': 45, 'total_tokens': 270, 'input_token_details': {'cache_read': 0}, 'output_token_details': {'reasoning': 0}})]"
      ]
     },
     "execution_count": 19,
     "metadata": {},
     "output_type": "execute_result"
    }
   ],
   "source": [
    "question[\"messages\"]"
   ]
  },
  {
   "cell_type": "markdown",
   "metadata": {},
   "source": [
    "##### 2. Answer questions"
   ]
  },
  {
   "cell_type": "code",
   "execution_count": 20,
   "metadata": {},
   "outputs": [],
   "source": [
    "class Queries(BaseModel):\n",
    "    queries: List[str] = Field(\n",
    "        description=\"Comprehensive list of search engine queries to answer the user's questions.\",\n",
    "    )\n",
    "\n",
    "\n",
    "gen_queries_prompt = ChatPromptTemplate.from_messages(\n",
    "    [\n",
    "        (\n",
    "            \"system\",\n",
    "            \"You are a helpful research assistant. Query the search engine to answer the user's questions.\",\n",
    "        ),\n",
    "        MessagesPlaceholder(variable_name=\"messages\", optional=True),\n",
    "    ]\n",
    ")\n",
    "gen_queries_chain = gen_queries_prompt | ChatOpenAI(\n",
    "    model=\"gpt-4o\"\n",
    ").with_structured_output(Queries, include_raw=True)"
   ]
  },
  {
   "cell_type": "code",
   "execution_count": 21,
   "metadata": {},
   "outputs": [
    {
     "data": {
      "text/plain": [
       "['impact of large token context windows on RAG systems',\n",
       " 'extended context windows in language models and RAG systems',\n",
       " 'large context windows in language models and retrieval-augmented generation',\n",
       " 'how do million-plus token contexts enhance RAG systems',\n",
       " 'effects of large context windows on information retrieval and generation in RAG systems']"
      ]
     },
     "execution_count": 21,
     "metadata": {},
     "output_type": "execute_result"
    }
   ],
   "source": [
    "queries = await gen_queries_chain.ainvoke(\n",
    "    {\"messages\": [HumanMessage(content=question[\"messages\"][0].content)]}\n",
    ")\n",
    "queries[\"parsed\"].queries"
   ]
  },
  {
   "cell_type": "code",
   "execution_count": 22,
   "metadata": {},
   "outputs": [],
   "source": [
    "class AnswerWithCitations(BaseModel):\n",
    "    answer: str = Field(\n",
    "        description=\"Comprehensive answer to the user's question with citations.\",\n",
    "    )\n",
    "    cited_urls: List[str] = Field(\n",
    "        description=\"List of urls cited in the answer.\",\n",
    "    )\n",
    "\n",
    "    @property\n",
    "    def as_str(self) -> str:\n",
    "        return f\"{self.answer}\\n\\nCitations:\\n\\n\" + \"\\n\".join(\n",
    "            f\"[{i+1}]: {url}\" for i, url in enumerate(self.cited_urls)\n",
    "        )\n",
    "\n",
    "\n",
    "gen_answer_prompt = ChatPromptTemplate.from_messages(\n",
    "    [\n",
    "        (\n",
    "            \"system\",\n",
    "            \"\"\"You are an expert who can use information effectively. You are chatting with a Wikipedia writer who wants\\\n",
    " to write a Wikipedia page on the topic you know. You have gathered the related information and will now use the information to form a response.\n",
    "\n",
    "Make your response as informative as possible and make sure every sentence is supported by the gathered information.\n",
    "Each response must be backed up by a citation from a reliable source, formatted as a footnote, reproducing the URLS after your response.\"\"\",\n",
    "        ),\n",
    "        MessagesPlaceholder(variable_name=\"messages\", optional=True),\n",
    "    ]\n",
    ")\n",
    "\n",
    "gen_answer_chain = gen_answer_prompt | fast_llm.with_structured_output(\n",
    "    AnswerWithCitations, include_raw=True\n",
    ").with_config(run_name=\"GenerateAnswer\")"
   ]
  },
  {
   "cell_type": "code",
   "execution_count": 23,
   "metadata": {},
   "outputs": [],
   "source": [
    "from langchain_community.utilities.duckduckgo_search import DuckDuckGoSearchAPIWrapper\n",
    "from langchain_core.tools import tool\n",
    "\n",
    "'''\n",
    "# Tavily is typically a better search engine, but your free queries are limited\n",
    "search_engine = TavilySearchResults(max_results=4)\n",
    "\n",
    "@tool\n",
    "async def search_engine(query: str):\n",
    "    \"\"\"Search engine to the internet.\"\"\"\n",
    "    results = tavily_search.invoke(query)\n",
    "    return [{\"content\": r[\"content\"], \"url\": r[\"url\"]} for r in results]\n",
    "'''\n",
    "\n",
    "# DDG\n",
    "search_engine = DuckDuckGoSearchAPIWrapper()\n",
    "\n",
    "\n",
    "@tool\n",
    "async def search_engine(query: str):\n",
    "    \"\"\"Search engine to the internet.\"\"\"\n",
    "    results = DuckDuckGoSearchAPIWrapper()._ddgs_text(query)\n",
    "    return [{\"content\": r[\"body\"], \"url\": r[\"href\"]} for r in results]"
   ]
  },
  {
   "cell_type": "code",
   "execution_count": 24,
   "metadata": {},
   "outputs": [],
   "source": [
    "import json\n",
    "\n",
    "from langchain_core.runnables import RunnableConfig\n",
    "\n",
    "\n",
    "async def gen_answer(\n",
    "    state: InterviewState,\n",
    "    config: Optional[RunnableConfig] = None,\n",
    "    name: str = \"Subject_Matter_Expert\",\n",
    "    max_str_len: int = 15000,\n",
    "):\n",
    "    swapped_state = swap_roles(state, name)  # Convert all other AI messages\n",
    "    queries = await gen_queries_chain.ainvoke(swapped_state)\n",
    "    query_results = await search_engine.abatch(\n",
    "        queries[\"parsed\"].queries, config, return_exceptions=True\n",
    "    )\n",
    "    successful_results = [\n",
    "        res for res in query_results if not isinstance(res, Exception)\n",
    "    ]\n",
    "    all_query_results = {\n",
    "        res[\"url\"]: res[\"content\"] for results in successful_results for res in results\n",
    "    }\n",
    "    # We could be more precise about handling max token length if we wanted to here\n",
    "    dumped = json.dumps(all_query_results)[:max_str_len]\n",
    "    ai_message: AIMessage = queries[\"raw\"]\n",
    "    tool_call = queries[\"raw\"].tool_calls[0]\n",
    "    tool_id = tool_call[\"id\"]\n",
    "    tool_message = ToolMessage(tool_call_id=tool_id, content=dumped)\n",
    "    swapped_state[\"messages\"].extend([ai_message, tool_message])\n",
    "    # Only update the shared state with the final answer to avoid\n",
    "    # polluting the dialogue history with intermediate messages\n",
    "    generated = await gen_answer_chain.ainvoke(swapped_state)\n",
    "    cited_urls = set(generated[\"parsed\"].cited_urls)\n",
    "    # Save the retrieved information to a the shared state for future reference\n",
    "    cited_references = {k: v for k, v in all_query_results.items() if k in cited_urls}\n",
    "    formatted_message = AIMessage(name=name, content=generated[\"parsed\"].as_str)\n",
    "    return {\"messages\": [formatted_message], \"references\": cited_references}"
   ]
  },
  {
   "cell_type": "code",
   "execution_count": 25,
   "metadata": {},
   "outputs": [
    {
     "data": {
      "text/plain": [
       "'Language models with million-plus token context windows significantly enhance Retrieval-Augmented Generation (RAG) systems by allowing them to ingest and process vast amounts of information simultaneously. This increased context capacity enables RAG systems to retrieve and utilize more extensive datasets, improving the relevance and accuracy of generated responses. For instance, traditional RAG systems often rely on retrieving a limited number of relevant documents or chunks of text; however, with extended context windows, the model can directly analyze these documents in their entirety, leading to a more nuanced understanding of the information at hand[^1^].\\n\\nMoreover, the integration of long context windows allows RAG systems to reduce the frequency of retrieval operations, as the model can hold more information at once, thereby decreasing latency and improving efficiency during the generation phase. This is particularly beneficial in scenarios where the data is complex or interrelated, as it allows the language model to maintain coherence and context throughout its responses[^2^].\\n\\nFurthermore, the use of large context windows can mitigate issues related to hallucination, where models generate incorrect or fabricated information due to insufficient context. By providing more comprehensive information, these models can ground their outputs in reality, leading to more reliable and fact-based responses[^3^]. \\n\\nLastly, while large context models offer substantial advantages, RAG systems remain crucial since they efficiently retrieve only the most relevant information, allowing for a dynamic and adaptable approach to information synthesis. This combination of extensive context and targeted retrieval enhances the overall performance of RAG systems, making them more effective in generating accurate and contextually rich responses[^4^].\\n\\nCitations:\\n\\n[1]: https://www.deepset.ai/blog/long-context-llms-rag\\n[2]: https://arxiv.org/abs/2407.16833\\n[3]: https://www.thecloudgirl.dev/blog/rag-vs-large-context-window\\n[4]: https://medium.com/@amanatulla1606/rag-is-here-to-stay-four-reasons-why-large-context-windows-cant-replace-it-ad112013de25'"
      ]
     },
     "execution_count": 25,
     "metadata": {},
     "output_type": "execute_result"
    }
   ],
   "source": [
    "example_answer = await gen_answer(\n",
    "    {\"messages\": [HumanMessage(content=question[\"messages\"][0].content)]}\n",
    ")\n",
    "example_answer[\"messages\"][-1].content"
   ]
  },
  {
   "cell_type": "markdown",
   "metadata": {},
   "source": [
    "##### 3. Construct the Interview Graph"
   ]
  },
  {
   "cell_type": "code",
   "execution_count": 26,
   "metadata": {},
   "outputs": [],
   "source": [
    "max_num_turns = 5\n",
    "from langgraph.pregel import RetryPolicy\n",
    "\n",
    "\n",
    "def route_messages(state: InterviewState, name: str = \"Subject_Matter_Expert\"):\n",
    "    messages = state[\"messages\"]\n",
    "    num_responses = len(\n",
    "        [m for m in messages if isinstance(m, AIMessage) and m.name == name]\n",
    "    )\n",
    "    if num_responses >= max_num_turns:\n",
    "        return END\n",
    "    last_question = messages[-2]\n",
    "    if last_question.content.endswith(\"Thank you so much for your help!\"):\n",
    "        return END\n",
    "    return \"ask_question\"\n",
    "\n",
    "\n",
    "builder = StateGraph(InterviewState)\n",
    "\n",
    "builder.add_node(\"ask_question\", generate_question, retry=RetryPolicy(max_attempts=5))\n",
    "builder.add_node(\"answer_question\", gen_answer, retry=RetryPolicy(max_attempts=5))\n",
    "builder.add_conditional_edges(\"answer_question\", route_messages)\n",
    "builder.add_edge(\"ask_question\", \"answer_question\")\n",
    "\n",
    "builder.add_edge(START, \"ask_question\")\n",
    "interview_graph = builder.compile(checkpointer=False).with_config(\n",
    "    run_name=\"Conduct Interviews\"\n",
    ")"
   ]
  },
  {
   "cell_type": "code",
   "execution_count": 27,
   "metadata": {},
   "outputs": [
    {
     "data": {
      "image/jpeg": "[encoded data removed]",
      "text/plain": [
       "<IPython.core.display.Image object>"
      ]
     },
     "metadata": {},
     "output_type": "display_data"
    }
   ],
   "source": [
    "from IPython.display import Image, display\n",
    "\n",
    "try:\n",
    "    display(Image(interview_graph.get_graph().draw_mermaid_png()))\n",
    "except Exception:\n",
    "    # This requires some extra dependencies and is optional\n",
    "    pass"
   ]
  },
  {
   "cell_type": "code",
   "execution_count": 37,
   "metadata": {},
   "outputs": [
    {
     "name": "stdout",
     "output_type": "stream",
     "text": [
      "ask_question\n",
      "--  [AIMessage(content=\"Yes, that's correct! I'm particularly interested in how the advancements in language models with million-plus token context windows can improve retrieval-augmented generation (RAG) capabilities. Could you explain how these longer context windows contribute to the effectiveness of RAG systems in real-world applications?\", additional_kwargs={'refusal': None}, response_metadata={'token_usage': {'completion_tokens': 55, 'prompt_tokens': 248, 'total_tokens': 303, 'completion_tokens_details': {'audio_tokens': None, 'reasoning_tokens': 0}, 'prompt_tokens_details': {'audio_tokens': None, 'cached_tokens': 0}}, 'model_name': 'gpt-4o-mini-2024-07-18', 'system_fingerprint': 'fp_0ba0d124f1', 'finish_reason': 'stop', 'logprobs': None}, name='Dr_Samantha_Lee', id='run-0cafffc3-a003-4da3-8590-5bc8eb913d36-0', usage_metadata={'input_tokens': 248, 'output_tokens': 55, 'total_tokens': 303, 'input_token_details': {'cache_read': 0}, 'output_token_details': {'reasoning': 0}})]\n",
      "answer_question\n",
      "--  [AIMessage(content='The advancements in language models with million-plus token context windows significantly enhance retrieval-augmented generation (RAG) capabilities, which is beneficial for real-world applications. First, larger context windows enable models to process more information at once, allowing them to maintain context over longer documents or conversations. This leads to improved contextual understanding, which is crucial for generating accurate and relevant responses in applications such as customer support and academic research.\\n\\nMoreover, with the ability to access and utilize more extensive data within a single context, these models reduce the need for extensive preprocessing, such as chunking and indexing, which can be time-consuming and complex in traditional RAG setups. In systems with smaller context windows, significant effort is often required to extract relevant segments of text, which can potentially lead to loss of information and context. In contrast, larger context models can integrate and synthesize information more effectively, thus enhancing the generation of coherent responses without losing critical data points【5†source】【6†source】【8†source】.\\n\\nFurthermore, the integration of long-context language models can mitigate some challenges faced by traditional RAG systems, such as the need for external retrieval mechanisms. While RAG systems excel in customizability and efficiency by leveraging external sources, they may still struggle with factual inaccuracies when relying on retrieved data from unstructured sources. Long-context models, on the other hand, can directly process and generate responses based on the entirety of the input, thereby reducing reliance on potentially flawed external information【7†source】【10†source】.\\n\\nIn real-world applications, industries such as finance, healthcare, and technology can greatly benefit from the capabilities of these advanced models. For instance, in finance, the ability to analyze lengthy reports or multiple documents simultaneously leads to quicker insights and decision-making【6†source】【8†source】. Similarly, in healthcare, being able to reference extensive patient histories or medical literature in a single query enables healthcare professionals to generate more accurate treatment recommendations【9†source】【10†source】. Overall, the combination of larger context windows and RAG techniques opens up new possibilities for enhanced language understanding and generation across various sectors.\\n\\nCitations:\\n\\n[1]: https://www.sciencetimes.com/articles/51540/20241101/pushing-the-boundaries-of-contextual-understanding.htm\\n[2]: https://www.deepset.ai/blog/long-context-llms-rag\\n[3]: https://www.superannotate.com/blog/rag-vs-long-context-llms\\n[4]: https://www.databricks.com/blog/long-context-rag-performance-llms\\n[5]: https://www.aporia.com/learn/introduction-to-rags-examples-from-the-real-world/', additional_kwargs={}, response_metadata={}, name='Subject_Matter_Expert')]\n",
      "ask_question\n",
      "--  [AIMessage(content='Thank you for that detailed explanation! Could you elaborate on any specific challenges or limitations that still exist with million-plus token context models in the context of RAG? How do these challenges impact their deployment in practical applications?', additional_kwargs={'refusal': None}, response_metadata={'token_usage': {'completion_tokens': 43, 'prompt_tokens': 867, 'total_tokens': 910, 'completion_tokens_details': {'audio_tokens': None, 'reasoning_tokens': 0}, 'prompt_tokens_details': {'audio_tokens': None, 'cached_tokens': 0}}, 'model_name': 'gpt-4o-mini-2024-07-18', 'system_fingerprint': 'fp_0ba0d124f1', 'finish_reason': 'stop', 'logprobs': None}, name='Dr_Samantha_Lee', id='run-e6e79197-c5e1-490b-87c3-03680ee77cad-0', usage_metadata={'input_tokens': 867, 'output_tokens': 43, 'total_tokens': 910, 'input_token_details': {'cache_read': 0}, 'output_token_details': {'reasoning': 0}})]\n",
      "answer_question\n",
      "--  [AIMessage(content='Despite the significant advancements offered by million-plus token context models, several challenges and limitations remain when these models are implemented in retrieval-augmented generation (RAG) systems. One of the primary challenges is the increased computational cost and resource requirements. Handling large context windows significantly escalates the demand for memory and processing power, which can hinder deployment in environments with limited resources. For instance, operating models capable of processing millions of tokens requires high-performance hardware, making them less accessible for smaller organizations or real-time applications that depend on rapid response times【6†source】【9†source】.\\n\\nAdditionally, the complexity of training and fine-tuning these models poses another hurdle. Training long-context models can be technically challenging and time-consuming, requiring sophisticated optimization techniques to ensure efficiency and stability. As the context length increases, the training process must account for a broader range of dependencies, which complicates the learning dynamics【5†source】【7†source】.\\n\\nAnother limitation is the potential for diminishing returns in performance as context windows grow larger. While longer context windows provide more information, they do not automatically translate to better performance in all tasks. In some instances, models may struggle with information overload, leading to confusion or inaccuracies in generated outputs. Therefore, simply increasing context size does not guarantee improved outcomes, particularly for tasks that require more nuanced understanding or reasoning【6†source】【8†source】.\\n\\nMoreover, the integration of long-context models with existing RAG frameworks can be challenging. RAG systems typically rely on external retrieval mechanisms to fetch relevant information, and the synergy between these models and traditional retrieval methods is still an area of research. Effective integration is crucial to ensure that the strengths of both approaches are utilized efficiently without introducing inconsistencies or errors in the response generation process【5†source】【7†source】.\\n\\nIn practical applications, these challenges can impact deployment strategies, as organizations must weigh the benefits of advanced models against their costs and complexities. In healthcare, for example, while the ability to analyze extensive patient histories is advantageous, the associated costs of deploying such systems can limit their application to larger healthcare providers【9†source】【10†source】. Similarly, in customer service, the computational demands of long-context models could impede their use in real-time chatbot applications, where rapid response times are essential【8†source】【9†source】. Overall, while million-plus token context models hold great promise, their practical deployment requires careful consideration of these ongoing challenges.\\n\\nCitations:\\n\\n[1]: https://www.sciencetimes.com/articles/51540/20241101/pushing-the-boundaries-of-contextual-understanding.htm\\n[2]: https://www.deepset.ai/blog/long-context-llms-rag\\n[3]: https://www.aporia.com/learn/introduction-to-rags-examples-from-the-real-world/\\n[4]: https://medium.com/@ritiksharma009999/rag-vs-long-context-llms-a-comparative-analysis-eeedde99dc76\\n[5]: https://venturebeat.com/ai/how-gradient-created-an-open-llm-with-a-million-token-context-window/\\n[6]: https://www.linkedin.com/pulse/understanding-tokens-context-windows-large-language-models-lepain-80p0e', additional_kwargs={}, response_metadata={}, name='Subject_Matter_Expert')]\n",
      "ask_question\n",
      "--  [AIMessage(content=\"Thank you for the insightful information! Can you provide examples of specific industries or use cases where the integration of million-plus token context models and RAG has shown promising results, despite the challenges you've mentioned? What outcomes have been observed in these scenarios?\", additional_kwargs={'refusal': None}, response_metadata={'token_usage': {'completion_tokens': 49, 'prompt_tokens': 1585, 'total_tokens': 1634, 'completion_tokens_details': {'audio_tokens': None, 'reasoning_tokens': 0}, 'prompt_tokens_details': {'audio_tokens': None, 'cached_tokens': 0}}, 'model_name': 'gpt-4o-mini-2024-07-18', 'system_fingerprint': 'fp_0ba0d124f1', 'finish_reason': 'stop', 'logprobs': None}, name='Dr_Samantha_Lee', id='run-1b4921b0-c971-40b9-87de-e9eceeef383c-0', usage_metadata={'input_tokens': 1585, 'output_tokens': 49, 'total_tokens': 1634, 'input_token_details': {'cache_read': 0}, 'output_token_details': {'reasoning': 0}})]\n",
      "answer_question\n",
      "--  [AIMessage(content='Several industries have successfully integrated million-plus token context models with retrieval-augmented generation (RAG), showcasing promising results despite existing challenges. One notable example is the legal sector, where long-context models enable the analysis of extensive legal documents and case histories. By processing large volumes of text simultaneously, these models can generate precise legal insights and recommendations, streamlining research and case preparation. The outcome observed includes faster turnaround times for legal analyses and reduced reliance on manual review processes, enhancing overall efficiency【6†source】【9†source】.\\n\\nIn the realm of software development, million-plus token context models have been employed to improve code generation and debugging processes. These models facilitate the understanding of extensive codebases by referencing multiple files and documentation concurrently. As a result, developers have reported increased accuracy in code suggestions and a notable reduction in debugging time. This integration ultimately leads to enhanced productivity and innovation within development teams【5†source】【8†source】.\\n\\nThe healthcare industry also benefits from these models, particularly in generating treatment plans based on comprehensive patient histories and medical literature. By analyzing lengthy medical records and guidelines, long-context models can provide personalized recommendations and potential treatment pathways. The outcomes include improved patient outcomes and more informed decision-making by healthcare providers, as they can access a broader context of information【8†source】【9†source】.\\n\\nAdditionally, the financial sector has seen advantages through the use of long-context models for market analysis and risk assessment. These models can process vast datasets, including historical market trends and economic reports, generating insights that help financial analysts make quicker and more informed predictions. The outcomes noted include enhanced accuracy in financial forecasting and the ability to react promptly to market changes【7†source】【10†source】.\\n\\nIn summary, the integration of million-plus token context models with RAG has shown effective results across various industries, leading to improved efficiency, accuracy, and overall outcomes despite the challenges associated with their deployment.\\n\\nCitations:\\n\\n[1]: https://www.sciencetimes.com/articles/51540/20241101/pushing-the-boundaries-of-contextual-understanding.htm\\n[2]: https://contextual.ai/introducing-rag2/\\n[3]: https://www.databricks.com/blog/long-context-rag-capabilities-openai-o1-and-google-gemini\\n[4]: https://www.aporia.com/learn/introduction-to-rags-examples-from-the-real-world/\\n[5]: https://medium.com/@ritiksharma009999/rag-vs-long-context-llms-a-comparative-analysis-eeedde99dc76', additional_kwargs={}, response_metadata={}, name='Subject_Matter_Expert')]\n",
      "ask_question\n",
      "--  [AIMessage(content='Thank you so much for your help!', additional_kwargs={'refusal': None}, response_metadata={'token_usage': {'completion_tokens': 8, 'prompt_tokens': 2170, 'total_tokens': 2178, 'completion_tokens_details': {'audio_tokens': None, 'reasoning_tokens': 0}, 'prompt_tokens_details': {'audio_tokens': None, 'cached_tokens': 1408}}, 'model_name': 'gpt-4o-mini-2024-07-18', 'system_fingerprint': 'fp_0ba0d124f1', 'finish_reason': 'stop', 'logprobs': None}, name='Dr_Samantha_Lee', id='run-78b8d98e-98f5-4647-905d-fccb7e79840a-0', usage_metadata={'input_tokens': 2170, 'output_tokens': 8, 'total_tokens': 2178, 'input_token_details': {'cache_read': 1408}, 'output_token_details': {'reasoning': 0}})]\n",
      "answer_question\n",
      "--  [AIMessage(content='Several industries have successfully integrated million-plus token context models with retrieval-augmented generation (RAG), showcasing promising results despite existing challenges. One notable example is the legal sector, where long-context models enable the analysis of extensive legal documents and case histories. By processing large volumes of text simultaneously, these models can generate precise legal insights and recommendations, streamlining research and case preparation. The outcome observed includes faster turnaround times for legal analyses and reduced reliance on manual review processes, enhancing overall efficiency.\\n\\nIn the realm of software development, million-plus token context models have been employed to improve code generation and debugging processes. These models facilitate the understanding of extensive codebases by referencing multiple files and documentation concurrently. As a result, developers have reported increased accuracy in code suggestions and a notable reduction in debugging time. This integration ultimately leads to enhanced productivity and innovation within development teams.\\n\\nThe healthcare industry also benefits from these models, particularly in generating treatment plans based on comprehensive patient histories and medical literature. By analyzing lengthy medical records and guidelines, long-context models can provide personalized recommendations and potential treatment pathways. The outcomes include improved patient outcomes and more informed decision-making by healthcare providers, as they can access a broader context of information.\\n\\nAdditionally, the financial sector has seen advantages through the use of long-context models for market analysis and risk assessment. These models can process vast datasets, including historical market trends and economic reports, generating insights that help financial analysts make quicker and more informed predictions. The outcomes noted include enhanced accuracy in financial forecasting and the ability to react promptly to market changes.\\n\\nIn summary, the integration of million-plus token context models with RAG has shown effective results across various industries, leading to improved efficiency, accuracy, and overall outcomes despite the challenges associated with their deployment.\\n\\nCitations:\\n\\n[1]: https://www.sciencetimes.com/articles/51540/20241101/pushing-the-boundaries-of-contextual-understanding.htm\\n[2]: https://medium.com/@ritiksharma009999/rag-vs-long-context-llms-a-comparative-analysis-eeedde99dc76\\n[3]: https://venturebeat.com/ai/how-gradient-created-an-open-llm-with-a-million-token-context-window/\\n[4]: https://www.deepset.ai/blog/long-context-llms-rag\\n[5]: https://www.aporia.com/learn/introduction-to-rags-examples-from-the-real-world/', additional_kwargs={}, response_metadata={}, name='Subject_Matter_Expert')]\n"
     ]
    }
   ],
   "source": [
    "final_step = None\n",
    "\n",
    "initial_state = {\n",
    "    \"editor\": perspectives.editors[0],\n",
    "    \"messages\": [\n",
    "        AIMessage(\n",
    "            content=f\"So you said you were writing an article on {example_topic}?\",\n",
    "            name=\"Subject_Matter_Expert\",\n",
    "        )\n",
    "    ],\n",
    "}\n",
    "async for step in interview_graph.astream(initial_state):\n",
    "    name = next(iter(step))\n",
    "    print(name)\n",
    "    print(\"-- \", str(step[name][\"messages\"]))\n",
    "final_step = step"
   ]
  },
  {
   "cell_type": "code",
   "execution_count": null,
   "metadata": {},
   "outputs": [],
   "source": []
  }
 ],
 "metadata": {
  "kernelspec": {
   "display_name": "langgraph",
   "language": "python",
   "name": "python3"
  },
  "language_info": {
   "codemirror_mode": {
    "name": "ipython",
    "version": 3
   },
   "file_extension": ".py",
   "mimetype": "text/x-python",
   "name": "python",
   "nbconvert_exporter": "python",
   "pygments_lexer": "ipython3",
   "version": "3.11.7"
  }
 },
 "nbformat": 4,
 "nbformat_minor": 2
}
